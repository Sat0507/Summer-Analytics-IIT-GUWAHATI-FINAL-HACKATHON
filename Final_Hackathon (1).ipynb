{
  "nbformat": 4,
  "nbformat_minor": 0,
  "metadata": {
    "colab": {
      "provenance": [],
      "collapsed_sections": [
        "uBRsyaWpur81",
        "JJXuiT_3B98L",
        "faRacRij59ld",
        "FYY_fS_KDslC",
        "oqRd9H9mh-dx",
        "ZadrjrNajS6s",
        "YvdMg-4cI6sR"
      ]
    },
    "kernelspec": {
      "name": "python3",
      "display_name": "Python 3"
    },
    "language_info": {
      "name": "python"
    }
  },
  "cells": [
    {
      "cell_type": "code",
      "execution_count": null,
      "metadata": {
        "id": "hZafYX1LsMSJ"
      },
      "outputs": [],
      "source": [
        "import pandas as pd\n",
        "import numpy as np\n",
        "import matplotlib.pyplot as plt\n",
        "import seaborn as sns\n",
        "from sklearn.preprocessing import LabelEncoder\n",
        "le = LabelEncoder()\n",
        "from sklearn.preprocessing import StandardScaler\n",
        "scaler = StandardScaler()\n",
        "from sklearn.model_selection import train_test_split\n",
        "from sklearn import svm\n",
        "from sklearn.ensemble import RandomForestClassifier\n",
        "from sklearn.ensemble import GradientBoostingClassifier\n",
        "import xgboost\n",
        "from sklearn.linear_model import LogisticRegression\n",
        "from sklearn.metrics import f1_score\n",
        "from sklearn.metrics import accuracy_score\n",
        "from sklearn.metrics import classification_report\n",
        "from sklearn.preprocessing import OneHotEncoder\n",
        "encoder = OneHotEncoder(sparse = False)\n",
        "from imblearn.under_sampling import RandomUnderSampler\n",
        "from imblearn.over_sampling import RandomOverSampler\n",
        "from sklearn.utils import resample\n",
        "from sklearn.model_selection import RandomizedSearchCV, GridSearchCV, StratifiedKFold\n",
        "from scipy.stats import uniform, randint"
      ]
    },
    {
      "cell_type": "code",
      "source": [
        "df = pd.read_csv('Train_Data (2).csv')\n",
        "df_test = pd.read_csv(\"Test_Data (3).csv\")"
      ],
      "metadata": {
        "id": "rcmiQp6LsYY9"
      },
      "execution_count": null,
      "outputs": []
    },
    {
      "cell_type": "code",
      "source": [
        "df.duplicated().sum()"
      ],
      "metadata": {
        "colab": {
          "base_uri": "https://localhost:8080/"
        },
        "id": "__DNUYOaLlAZ",
        "outputId": "34d03d98-5603-4d92-e0c4-500752c3b635"
      },
      "execution_count": null,
      "outputs": [
        {
          "output_type": "execute_result",
          "data": {
            "text/plain": [
              "0"
            ]
          },
          "metadata": {},
          "execution_count": 3
        }
      ]
    },
    {
      "cell_type": "markdown",
      "source": [
        "##Data Cleaning Training Data"
      ],
      "metadata": {
        "id": "uBRsyaWpur81"
      }
    },
    {
      "cell_type": "code",
      "source": [
        "df['Healthy'].value_counts()"
      ],
      "metadata": {
        "colab": {
          "base_uri": "https://localhost:8080/"
        },
        "id": "aonJ-Gf0AtYm",
        "outputId": "1c35c7eb-6937-4a40-cae8-34579ec94590"
      },
      "execution_count": null,
      "outputs": [
        {
          "output_type": "execute_result",
          "data": {
            "text/plain": [
              "1    16300\n",
              "0     9620\n",
              "Name: Healthy, dtype: int64"
            ]
          },
          "metadata": {},
          "execution_count": 4
        }
      ]
    },
    {
      "cell_type": "code",
      "source": [
        "# rv = df[(df['Social interaction']==0) & (df['Healthy']==0)]\n",
        "# rv"
      ],
      "metadata": {
        "id": "M79AusVH68q6"
      },
      "execution_count": null,
      "outputs": []
    },
    {
      "cell_type": "code",
      "source": [
        "# df['Taking supplements'].value_counts()"
      ],
      "metadata": {
        "id": "EuJPvAM34aDO"
      },
      "execution_count": null,
      "outputs": []
    },
    {
      "cell_type": "code",
      "source": [
        "# df.describe()"
      ],
      "metadata": {
        "id": "FbBTxcXaZmS9"
      },
      "execution_count": null,
      "outputs": []
    },
    {
      "cell_type": "code",
      "source": [
        "# sns.displot(df[\"BMI\"], kde=True)\n",
        "# plt.show()"
      ],
      "metadata": {
        "id": "NWmo5Ljjuv4M"
      },
      "execution_count": null,
      "outputs": []
    },
    {
      "cell_type": "code",
      "source": [
        "# bmi = df[df['BMI']<15]\n",
        "# bmi"
      ],
      "metadata": {
        "id": "D4bBvJb3vAof"
      },
      "execution_count": null,
      "outputs": []
    },
    {
      "cell_type": "code",
      "source": [
        "# # Null value transformation\n",
        "df['Food preference'] = df['Food preference'].fillna('DX6')\n",
        "df['Smoker?'] = df['Smoker?'].fillna('NO')\n",
        "df['Follow Diet'] = df['Follow Diet'].fillna(value = 1)\n",
        "df['Physical activity']= df['Physical activity'].fillna(value=0)\n",
        "df['Regular sleeping hours'] = df['Regular sleeping hours'].fillna(value = 0)\n",
        "df['Alcohol consumption'] =df['Alcohol consumption'].fillna(value=0)\n",
        "df['Taking supplements'] = df['Taking supplements'].fillna(value=0)\n",
        "df['Illness count last year'] = df['Illness count last year'].fillna(value=2)\n",
        "df['Social interaction'] =df['Social interaction'].fillna(value=0)\n",
        "# df = df.dropna()"
      ],
      "metadata": {
        "id": "wYw-IYzy2gsL"
      },
      "execution_count": null,
      "outputs": []
    },
    {
      "cell_type": "code",
      "source": [
        "# bmi2 = df[df['BMI']>30]\n",
        "# bmi2.shape"
      ],
      "metadata": {
        "id": "Xk6vdtb_wpx8"
      },
      "execution_count": null,
      "outputs": []
    },
    {
      "cell_type": "code",
      "source": [
        "# age_f= df[(df['Age']<50) & (df['Healthy']==0)]\n",
        "# age_f"
      ],
      "metadata": {
        "id": "6hginTelJDM5"
      },
      "execution_count": null,
      "outputs": []
    },
    {
      "cell_type": "code",
      "source": [
        "# df['Food preference'].value_counts()"
      ],
      "metadata": {
        "id": "ZsGUMiSDzt2u"
      },
      "execution_count": null,
      "outputs": []
    },
    {
      "cell_type": "code",
      "source": [
        "df.head()"
      ],
      "metadata": {
        "colab": {
          "base_uri": "https://localhost:8080/"
        },
        "id": "z7odb-PsAdqf",
        "outputId": "8d314e27-26e0-44ac-e19c-15d7a0eb2c8a"
      },
      "execution_count": null,
      "outputs": [
        {
          "output_type": "execute_result",
          "data": {
            "text/plain": [
              "     ID1  Specific ailments    ID2 Food preference  Age        BMI Smoker?  \\\n",
              "0   2408                 44   2668             DX6   49  20.500470      NO   \n",
              "1  25063                 39  10363        DX3 DX4    20  26.076580      NO   \n",
              "2  26798                 29    132             DX6    1  21.420866      NO   \n",
              "3  31907                 27  10499            DX1    30  25.203247      NO   \n",
              "4  26412                  9   7963             DX6   40  19.355846     YES   \n",
              "\n",
              "  Living in? Any heriditary condition?  Follow Diet  Physical activity  \\\n",
              "0      RURAL                    Stable          1.0                0.0   \n",
              "1      URBAN                    Stable          0.0                0.0   \n",
              "2      URBAN                    Stable          1.0                0.0   \n",
              "3      RURAL                    Stable          1.0                0.0   \n",
              "4      RURAL                    Stable          1.0                0.0   \n",
              "\n",
              "   Regular sleeping hours  Alcohol consumption  Social interaction  \\\n",
              "0                     0.0                  0.0                 0.0   \n",
              "1                     0.0                  0.0                 1.0   \n",
              "2                     0.0                  0.0                 0.0   \n",
              "3                     0.0                  0.0                 0.0   \n",
              "4                     0.0                  0.0                 1.0   \n",
              "\n",
              "   Taking supplements  Mental health management  Illness count last year  \\\n",
              "0                 0.0                       0.0                      1.0   \n",
              "1                 0.0                       0.0                      1.0   \n",
              "2                 0.0                       0.0                      1.0   \n",
              "3                 0.0                       0.0                      1.0   \n",
              "4                 0.0                       0.0                      2.0   \n",
              "\n",
              "   Healthy  \n",
              "0        1  \n",
              "1        1  \n",
              "2        0  \n",
              "3        1  \n",
              "4        1  "
            ],
            "text/html": [
              "\n",
              "\n",
              "  <div id=\"df-99c5c2b1-4648-4a51-af95-ed49f8792d5c\">\n",
              "    <div class=\"colab-df-container\">\n",
              "      <div>\n",
              "<style scoped>\n",
              "    .dataframe tbody tr th:only-of-type {\n",
              "        vertical-align: middle;\n",
              "    }\n",
              "\n",
              "    .dataframe tbody tr th {\n",
              "        vertical-align: top;\n",
              "    }\n",
              "\n",
              "    .dataframe thead th {\n",
              "        text-align: right;\n",
              "    }\n",
              "</style>\n",
              "<table border=\"1\" class=\"dataframe\">\n",
              "  <thead>\n",
              "    <tr style=\"text-align: right;\">\n",
              "      <th></th>\n",
              "      <th>ID1</th>\n",
              "      <th>Specific ailments</th>\n",
              "      <th>ID2</th>\n",
              "      <th>Food preference</th>\n",
              "      <th>Age</th>\n",
              "      <th>BMI</th>\n",
              "      <th>Smoker?</th>\n",
              "      <th>Living in?</th>\n",
              "      <th>Any heriditary condition?</th>\n",
              "      <th>Follow Diet</th>\n",
              "      <th>Physical activity</th>\n",
              "      <th>Regular sleeping hours</th>\n",
              "      <th>Alcohol consumption</th>\n",
              "      <th>Social interaction</th>\n",
              "      <th>Taking supplements</th>\n",
              "      <th>Mental health management</th>\n",
              "      <th>Illness count last year</th>\n",
              "      <th>Healthy</th>\n",
              "    </tr>\n",
              "  </thead>\n",
              "  <tbody>\n",
              "    <tr>\n",
              "      <th>0</th>\n",
              "      <td>2408</td>\n",
              "      <td>44</td>\n",
              "      <td>2668</td>\n",
              "      <td>DX6</td>\n",
              "      <td>49</td>\n",
              "      <td>20.500470</td>\n",
              "      <td>NO</td>\n",
              "      <td>RURAL</td>\n",
              "      <td>Stable</td>\n",
              "      <td>1.0</td>\n",
              "      <td>0.0</td>\n",
              "      <td>0.0</td>\n",
              "      <td>0.0</td>\n",
              "      <td>0.0</td>\n",
              "      <td>0.0</td>\n",
              "      <td>0.0</td>\n",
              "      <td>1.0</td>\n",
              "      <td>1</td>\n",
              "    </tr>\n",
              "    <tr>\n",
              "      <th>1</th>\n",
              "      <td>25063</td>\n",
              "      <td>39</td>\n",
              "      <td>10363</td>\n",
              "      <td>DX3 DX4</td>\n",
              "      <td>20</td>\n",
              "      <td>26.076580</td>\n",
              "      <td>NO</td>\n",
              "      <td>URBAN</td>\n",
              "      <td>Stable</td>\n",
              "      <td>0.0</td>\n",
              "      <td>0.0</td>\n",
              "      <td>0.0</td>\n",
              "      <td>0.0</td>\n",
              "      <td>1.0</td>\n",
              "      <td>0.0</td>\n",
              "      <td>0.0</td>\n",
              "      <td>1.0</td>\n",
              "      <td>1</td>\n",
              "    </tr>\n",
              "    <tr>\n",
              "      <th>2</th>\n",
              "      <td>26798</td>\n",
              "      <td>29</td>\n",
              "      <td>132</td>\n",
              "      <td>DX6</td>\n",
              "      <td>1</td>\n",
              "      <td>21.420866</td>\n",
              "      <td>NO</td>\n",
              "      <td>URBAN</td>\n",
              "      <td>Stable</td>\n",
              "      <td>1.0</td>\n",
              "      <td>0.0</td>\n",
              "      <td>0.0</td>\n",
              "      <td>0.0</td>\n",
              "      <td>0.0</td>\n",
              "      <td>0.0</td>\n",
              "      <td>0.0</td>\n",
              "      <td>1.0</td>\n",
              "      <td>0</td>\n",
              "    </tr>\n",
              "    <tr>\n",
              "      <th>3</th>\n",
              "      <td>31907</td>\n",
              "      <td>27</td>\n",
              "      <td>10499</td>\n",
              "      <td>DX1</td>\n",
              "      <td>30</td>\n",
              "      <td>25.203247</td>\n",
              "      <td>NO</td>\n",
              "      <td>RURAL</td>\n",
              "      <td>Stable</td>\n",
              "      <td>1.0</td>\n",
              "      <td>0.0</td>\n",
              "      <td>0.0</td>\n",
              "      <td>0.0</td>\n",
              "      <td>0.0</td>\n",
              "      <td>0.0</td>\n",
              "      <td>0.0</td>\n",
              "      <td>1.0</td>\n",
              "      <td>1</td>\n",
              "    </tr>\n",
              "    <tr>\n",
              "      <th>4</th>\n",
              "      <td>26412</td>\n",
              "      <td>9</td>\n",
              "      <td>7963</td>\n",
              "      <td>DX6</td>\n",
              "      <td>40</td>\n",
              "      <td>19.355846</td>\n",
              "      <td>YES</td>\n",
              "      <td>RURAL</td>\n",
              "      <td>Stable</td>\n",
              "      <td>1.0</td>\n",
              "      <td>0.0</td>\n",
              "      <td>0.0</td>\n",
              "      <td>0.0</td>\n",
              "      <td>1.0</td>\n",
              "      <td>0.0</td>\n",
              "      <td>0.0</td>\n",
              "      <td>2.0</td>\n",
              "      <td>1</td>\n",
              "    </tr>\n",
              "  </tbody>\n",
              "</table>\n",
              "</div>\n",
              "      <button class=\"colab-df-convert\" onclick=\"convertToInteractive('df-99c5c2b1-4648-4a51-af95-ed49f8792d5c')\"\n",
              "              title=\"Convert this dataframe to an interactive table.\"\n",
              "              style=\"display:none;\">\n",
              "\n",
              "  <svg xmlns=\"http://www.w3.org/2000/svg\" height=\"24px\"viewBox=\"0 0 24 24\"\n",
              "       width=\"24px\">\n",
              "    <path d=\"M0 0h24v24H0V0z\" fill=\"none\"/>\n",
              "    <path d=\"M18.56 5.44l.94 2.06.94-2.06 2.06-.94-2.06-.94-.94-2.06-.94 2.06-2.06.94zm-11 1L8.5 8.5l.94-2.06 2.06-.94-2.06-.94L8.5 2.5l-.94 2.06-2.06.94zm10 10l.94 2.06.94-2.06 2.06-.94-2.06-.94-.94-2.06-.94 2.06-2.06.94z\"/><path d=\"M17.41 7.96l-1.37-1.37c-.4-.4-.92-.59-1.43-.59-.52 0-1.04.2-1.43.59L10.3 9.45l-7.72 7.72c-.78.78-.78 2.05 0 2.83L4 21.41c.39.39.9.59 1.41.59.51 0 1.02-.2 1.41-.59l7.78-7.78 2.81-2.81c.8-.78.8-2.07 0-2.86zM5.41 20L4 18.59l7.72-7.72 1.47 1.35L5.41 20z\"/>\n",
              "  </svg>\n",
              "      </button>\n",
              "\n",
              "\n",
              "\n",
              "    <div id=\"df-b4f951eb-f9d0-4f9a-8ccb-a8780cefa443\">\n",
              "      <button class=\"colab-df-quickchart\" onclick=\"quickchart('df-b4f951eb-f9d0-4f9a-8ccb-a8780cefa443')\"\n",
              "              title=\"Suggest charts.\"\n",
              "              style=\"display:none;\">\n",
              "\n",
              "<svg xmlns=\"http://www.w3.org/2000/svg\" height=\"24px\"viewBox=\"0 0 24 24\"\n",
              "     width=\"24px\">\n",
              "    <g>\n",
              "        <path d=\"M19 3H5c-1.1 0-2 .9-2 2v14c0 1.1.9 2 2 2h14c1.1 0 2-.9 2-2V5c0-1.1-.9-2-2-2zM9 17H7v-7h2v7zm4 0h-2V7h2v10zm4 0h-2v-4h2v4z\"/>\n",
              "    </g>\n",
              "</svg>\n",
              "      </button>\n",
              "    </div>\n",
              "\n",
              "<style>\n",
              "  .colab-df-quickchart {\n",
              "    background-color: #E8F0FE;\n",
              "    border: none;\n",
              "    border-radius: 50%;\n",
              "    cursor: pointer;\n",
              "    display: none;\n",
              "    fill: #1967D2;\n",
              "    height: 32px;\n",
              "    padding: 0 0 0 0;\n",
              "    width: 32px;\n",
              "  }\n",
              "\n",
              "  .colab-df-quickchart:hover {\n",
              "    background-color: #E2EBFA;\n",
              "    box-shadow: 0px 1px 2px rgba(60, 64, 67, 0.3), 0px 1px 3px 1px rgba(60, 64, 67, 0.15);\n",
              "    fill: #174EA6;\n",
              "  }\n",
              "\n",
              "  [theme=dark] .colab-df-quickchart {\n",
              "    background-color: #3B4455;\n",
              "    fill: #D2E3FC;\n",
              "  }\n",
              "\n",
              "  [theme=dark] .colab-df-quickchart:hover {\n",
              "    background-color: #434B5C;\n",
              "    box-shadow: 0px 1px 3px 1px rgba(0, 0, 0, 0.15);\n",
              "    filter: drop-shadow(0px 1px 2px rgba(0, 0, 0, 0.3));\n",
              "    fill: #FFFFFF;\n",
              "  }\n",
              "</style>\n",
              "\n",
              "    <script>\n",
              "      async function quickchart(key) {\n",
              "        const containerElement = document.querySelector('#' + key);\n",
              "        const charts = await google.colab.kernel.invokeFunction(\n",
              "            'suggestCharts', [key], {});\n",
              "      }\n",
              "    </script>\n",
              "\n",
              "      <script>\n",
              "\n",
              "function displayQuickchartButton(domScope) {\n",
              "  let quickchartButtonEl =\n",
              "    domScope.querySelector('#df-b4f951eb-f9d0-4f9a-8ccb-a8780cefa443 button.colab-df-quickchart');\n",
              "  quickchartButtonEl.style.display =\n",
              "    google.colab.kernel.accessAllowed ? 'block' : 'none';\n",
              "}\n",
              "\n",
              "        displayQuickchartButton(document);\n",
              "      </script>\n",
              "      <style>\n",
              "    .colab-df-container {\n",
              "      display:flex;\n",
              "      flex-wrap:wrap;\n",
              "      gap: 12px;\n",
              "    }\n",
              "\n",
              "    .colab-df-convert {\n",
              "      background-color: #E8F0FE;\n",
              "      border: none;\n",
              "      border-radius: 50%;\n",
              "      cursor: pointer;\n",
              "      display: none;\n",
              "      fill: #1967D2;\n",
              "      height: 32px;\n",
              "      padding: 0 0 0 0;\n",
              "      width: 32px;\n",
              "    }\n",
              "\n",
              "    .colab-df-convert:hover {\n",
              "      background-color: #E2EBFA;\n",
              "      box-shadow: 0px 1px 2px rgba(60, 64, 67, 0.3), 0px 1px 3px 1px rgba(60, 64, 67, 0.15);\n",
              "      fill: #174EA6;\n",
              "    }\n",
              "\n",
              "    [theme=dark] .colab-df-convert {\n",
              "      background-color: #3B4455;\n",
              "      fill: #D2E3FC;\n",
              "    }\n",
              "\n",
              "    [theme=dark] .colab-df-convert:hover {\n",
              "      background-color: #434B5C;\n",
              "      box-shadow: 0px 1px 3px 1px rgba(0, 0, 0, 0.15);\n",
              "      filter: drop-shadow(0px 1px 2px rgba(0, 0, 0, 0.3));\n",
              "      fill: #FFFFFF;\n",
              "    }\n",
              "  </style>\n",
              "\n",
              "      <script>\n",
              "        const buttonEl =\n",
              "          document.querySelector('#df-99c5c2b1-4648-4a51-af95-ed49f8792d5c button.colab-df-convert');\n",
              "        buttonEl.style.display =\n",
              "          google.colab.kernel.accessAllowed ? 'block' : 'none';\n",
              "\n",
              "        async function convertToInteractive(key) {\n",
              "          const element = document.querySelector('#df-99c5c2b1-4648-4a51-af95-ed49f8792d5c');\n",
              "          const dataTable =\n",
              "            await google.colab.kernel.invokeFunction('convertToInteractive',\n",
              "                                                     [key], {});\n",
              "          if (!dataTable) return;\n",
              "\n",
              "          const docLinkHtml = 'Like what you see? Visit the ' +\n",
              "            '<a target=\"_blank\" href=https://colab.research.google.com/notebooks/data_table.ipynb>data table notebook</a>'\n",
              "            + ' to learn more about interactive tables.';\n",
              "          element.innerHTML = '';\n",
              "          dataTable['output_type'] = 'display_data';\n",
              "          await google.colab.output.renderOutput(dataTable, element);\n",
              "          const docLink = document.createElement('div');\n",
              "          docLink.innerHTML = docLinkHtml;\n",
              "          element.appendChild(docLink);\n",
              "        }\n",
              "      </script>\n",
              "    </div>\n",
              "  </div>\n"
            ]
          },
          "metadata": {},
          "execution_count": 14
        }
      ]
    },
    {
      "cell_type": "code",
      "source": [
        "df_encoded = pd.get_dummies(df['Food preference'].str.split(' ', expand=True).stack()).groupby(level=0).sum()\n",
        "df = pd.concat([df.drop(columns='Food preference'), df_encoded], axis=1)"
      ],
      "metadata": {
        "id": "wCg8jozwf5ZK"
      },
      "execution_count": null,
      "outputs": []
    },
    {
      "cell_type": "code",
      "source": [
        "df_encoded2 = pd.get_dummies(df['Illness count last year'])\n",
        "df_encoded2 = df_encoded2.reset_index(drop = True)\n",
        "df = pd.concat([df.drop(columns='Illness count last year'), df_encoded2], axis=1)\n",
        "df.columns = df.columns.astype(str)"
      ],
      "metadata": {
        "id": "qCu0bcXl7JF_"
      },
      "execution_count": null,
      "outputs": []
    },
    {
      "cell_type": "code",
      "source": [
        "col_list = ['Smoker?','Living in?','Any heriditary condition?','Follow Diet','Physical activity','Regular sleeping hours','Alcohol consumption','Social interaction','Taking supplements','Illness count last year','Healthy']"
      ],
      "metadata": {
        "id": "EJaV4vD7ybCn"
      },
      "execution_count": null,
      "outputs": []
    },
    {
      "cell_type": "code",
      "source": [
        "# for col in col_list:\n",
        "#   print(df[col].value_counts())\n",
        "#   print(\"\\n\")"
      ],
      "metadata": {
        "id": "SLv46GZFzyzg"
      },
      "execution_count": null,
      "outputs": []
    },
    {
      "cell_type": "code",
      "source": [
        "# for col in col_list:\n",
        "#   print(df.groupby(col)['Healthy'].value_counts())\n",
        "#   print(\"\\n\")\n"
      ],
      "metadata": {
        "id": "NZTrkNvdyUbz"
      },
      "execution_count": null,
      "outputs": []
    },
    {
      "cell_type": "code",
      "source": [
        "# age_70 = df[(df['Age']>70) & (df['Healthy'] ==1)]\n",
        "# print(age_70.shape)\n",
        "# age_70\n",
        "# dropping these columns as people of age greater than 100 with such low BMI cannot be Healthy\n",
        "df1 = df[df['Age']<=70]"
      ],
      "metadata": {
        "id": "0hIlUISd2Tc3"
      },
      "execution_count": null,
      "outputs": []
    },
    {
      "cell_type": "code",
      "source": [
        "# df1['Mental health management'].value_counts()"
      ],
      "metadata": {
        "id": "qaB980aGGYpW"
      },
      "execution_count": null,
      "outputs": []
    },
    {
      "cell_type": "code",
      "source": [
        "#dropping heriditary column because every row have same value\n",
        "df1 = df1.drop(['Any heriditary condition?','ID1','ID2','Mental health management'], axis=1)\n",
        "df1.head(5)"
      ],
      "metadata": {
        "colab": {
          "base_uri": "https://localhost:8080/"
        },
        "id": "m7-wQ8K9_K9x",
        "outputId": "cd2b98e5-2778-44e5-d570-6f490e1856b4"
      },
      "execution_count": null,
      "outputs": [
        {
          "output_type": "execute_result",
          "data": {
            "text/plain": [
              "   Specific ailments  Age        BMI Smoker? Living in?  Follow Diet  \\\n",
              "0                 44   49  20.500470      NO      RURAL          1.0   \n",
              "1                 39   20  26.076580      NO      URBAN          0.0   \n",
              "2                 29    1  21.420866      NO      URBAN          1.0   \n",
              "3                 27   30  25.203247      NO      RURAL          1.0   \n",
              "4                  9   40  19.355846     YES      RURAL          1.0   \n",
              "\n",
              "   Physical activity  Regular sleeping hours  Alcohol consumption  \\\n",
              "0                0.0                     0.0                  0.0   \n",
              "1                0.0                     0.0                  0.0   \n",
              "2                0.0                     0.0                  0.0   \n",
              "3                0.0                     0.0                  0.0   \n",
              "4                0.0                     0.0                  0.0   \n",
              "\n",
              "   Social interaction  ...  DX2  DX3  DX4  DX5  DX6  1.0  2.0  3.0  4.0  5.0  \n",
              "0                 0.0  ...    0    0    0    0    1    1    0    0    0    0  \n",
              "1                 1.0  ...    0    1    1    0    0    1    0    0    0    0  \n",
              "2                 0.0  ...    0    0    0    0    1    1    0    0    0    0  \n",
              "3                 0.0  ...    0    0    0    0    0    1    0    0    0    0  \n",
              "4                 1.0  ...    0    0    0    0    1    0    1    0    0    0  \n",
              "\n",
              "[5 rows x 24 columns]"
            ],
            "text/html": [
              "\n",
              "\n",
              "  <div id=\"df-0b36860a-19c0-4752-8420-c1ae93826c83\">\n",
              "    <div class=\"colab-df-container\">\n",
              "      <div>\n",
              "<style scoped>\n",
              "    .dataframe tbody tr th:only-of-type {\n",
              "        vertical-align: middle;\n",
              "    }\n",
              "\n",
              "    .dataframe tbody tr th {\n",
              "        vertical-align: top;\n",
              "    }\n",
              "\n",
              "    .dataframe thead th {\n",
              "        text-align: right;\n",
              "    }\n",
              "</style>\n",
              "<table border=\"1\" class=\"dataframe\">\n",
              "  <thead>\n",
              "    <tr style=\"text-align: right;\">\n",
              "      <th></th>\n",
              "      <th>Specific ailments</th>\n",
              "      <th>Age</th>\n",
              "      <th>BMI</th>\n",
              "      <th>Smoker?</th>\n",
              "      <th>Living in?</th>\n",
              "      <th>Follow Diet</th>\n",
              "      <th>Physical activity</th>\n",
              "      <th>Regular sleeping hours</th>\n",
              "      <th>Alcohol consumption</th>\n",
              "      <th>Social interaction</th>\n",
              "      <th>...</th>\n",
              "      <th>DX2</th>\n",
              "      <th>DX3</th>\n",
              "      <th>DX4</th>\n",
              "      <th>DX5</th>\n",
              "      <th>DX6</th>\n",
              "      <th>1.0</th>\n",
              "      <th>2.0</th>\n",
              "      <th>3.0</th>\n",
              "      <th>4.0</th>\n",
              "      <th>5.0</th>\n",
              "    </tr>\n",
              "  </thead>\n",
              "  <tbody>\n",
              "    <tr>\n",
              "      <th>0</th>\n",
              "      <td>44</td>\n",
              "      <td>49</td>\n",
              "      <td>20.500470</td>\n",
              "      <td>NO</td>\n",
              "      <td>RURAL</td>\n",
              "      <td>1.0</td>\n",
              "      <td>0.0</td>\n",
              "      <td>0.0</td>\n",
              "      <td>0.0</td>\n",
              "      <td>0.0</td>\n",
              "      <td>...</td>\n",
              "      <td>0</td>\n",
              "      <td>0</td>\n",
              "      <td>0</td>\n",
              "      <td>0</td>\n",
              "      <td>1</td>\n",
              "      <td>1</td>\n",
              "      <td>0</td>\n",
              "      <td>0</td>\n",
              "      <td>0</td>\n",
              "      <td>0</td>\n",
              "    </tr>\n",
              "    <tr>\n",
              "      <th>1</th>\n",
              "      <td>39</td>\n",
              "      <td>20</td>\n",
              "      <td>26.076580</td>\n",
              "      <td>NO</td>\n",
              "      <td>URBAN</td>\n",
              "      <td>0.0</td>\n",
              "      <td>0.0</td>\n",
              "      <td>0.0</td>\n",
              "      <td>0.0</td>\n",
              "      <td>1.0</td>\n",
              "      <td>...</td>\n",
              "      <td>0</td>\n",
              "      <td>1</td>\n",
              "      <td>1</td>\n",
              "      <td>0</td>\n",
              "      <td>0</td>\n",
              "      <td>1</td>\n",
              "      <td>0</td>\n",
              "      <td>0</td>\n",
              "      <td>0</td>\n",
              "      <td>0</td>\n",
              "    </tr>\n",
              "    <tr>\n",
              "      <th>2</th>\n",
              "      <td>29</td>\n",
              "      <td>1</td>\n",
              "      <td>21.420866</td>\n",
              "      <td>NO</td>\n",
              "      <td>URBAN</td>\n",
              "      <td>1.0</td>\n",
              "      <td>0.0</td>\n",
              "      <td>0.0</td>\n",
              "      <td>0.0</td>\n",
              "      <td>0.0</td>\n",
              "      <td>...</td>\n",
              "      <td>0</td>\n",
              "      <td>0</td>\n",
              "      <td>0</td>\n",
              "      <td>0</td>\n",
              "      <td>1</td>\n",
              "      <td>1</td>\n",
              "      <td>0</td>\n",
              "      <td>0</td>\n",
              "      <td>0</td>\n",
              "      <td>0</td>\n",
              "    </tr>\n",
              "    <tr>\n",
              "      <th>3</th>\n",
              "      <td>27</td>\n",
              "      <td>30</td>\n",
              "      <td>25.203247</td>\n",
              "      <td>NO</td>\n",
              "      <td>RURAL</td>\n",
              "      <td>1.0</td>\n",
              "      <td>0.0</td>\n",
              "      <td>0.0</td>\n",
              "      <td>0.0</td>\n",
              "      <td>0.0</td>\n",
              "      <td>...</td>\n",
              "      <td>0</td>\n",
              "      <td>0</td>\n",
              "      <td>0</td>\n",
              "      <td>0</td>\n",
              "      <td>0</td>\n",
              "      <td>1</td>\n",
              "      <td>0</td>\n",
              "      <td>0</td>\n",
              "      <td>0</td>\n",
              "      <td>0</td>\n",
              "    </tr>\n",
              "    <tr>\n",
              "      <th>4</th>\n",
              "      <td>9</td>\n",
              "      <td>40</td>\n",
              "      <td>19.355846</td>\n",
              "      <td>YES</td>\n",
              "      <td>RURAL</td>\n",
              "      <td>1.0</td>\n",
              "      <td>0.0</td>\n",
              "      <td>0.0</td>\n",
              "      <td>0.0</td>\n",
              "      <td>1.0</td>\n",
              "      <td>...</td>\n",
              "      <td>0</td>\n",
              "      <td>0</td>\n",
              "      <td>0</td>\n",
              "      <td>0</td>\n",
              "      <td>1</td>\n",
              "      <td>0</td>\n",
              "      <td>1</td>\n",
              "      <td>0</td>\n",
              "      <td>0</td>\n",
              "      <td>0</td>\n",
              "    </tr>\n",
              "  </tbody>\n",
              "</table>\n",
              "<p>5 rows × 24 columns</p>\n",
              "</div>\n",
              "      <button class=\"colab-df-convert\" onclick=\"convertToInteractive('df-0b36860a-19c0-4752-8420-c1ae93826c83')\"\n",
              "              title=\"Convert this dataframe to an interactive table.\"\n",
              "              style=\"display:none;\">\n",
              "\n",
              "  <svg xmlns=\"http://www.w3.org/2000/svg\" height=\"24px\"viewBox=\"0 0 24 24\"\n",
              "       width=\"24px\">\n",
              "    <path d=\"M0 0h24v24H0V0z\" fill=\"none\"/>\n",
              "    <path d=\"M18.56 5.44l.94 2.06.94-2.06 2.06-.94-2.06-.94-.94-2.06-.94 2.06-2.06.94zm-11 1L8.5 8.5l.94-2.06 2.06-.94-2.06-.94L8.5 2.5l-.94 2.06-2.06.94zm10 10l.94 2.06.94-2.06 2.06-.94-2.06-.94-.94-2.06-.94 2.06-2.06.94z\"/><path d=\"M17.41 7.96l-1.37-1.37c-.4-.4-.92-.59-1.43-.59-.52 0-1.04.2-1.43.59L10.3 9.45l-7.72 7.72c-.78.78-.78 2.05 0 2.83L4 21.41c.39.39.9.59 1.41.59.51 0 1.02-.2 1.41-.59l7.78-7.78 2.81-2.81c.8-.78.8-2.07 0-2.86zM5.41 20L4 18.59l7.72-7.72 1.47 1.35L5.41 20z\"/>\n",
              "  </svg>\n",
              "      </button>\n",
              "\n",
              "\n",
              "\n",
              "    <div id=\"df-5e181cd8-0e9d-43f1-9bde-b043fd01870a\">\n",
              "      <button class=\"colab-df-quickchart\" onclick=\"quickchart('df-5e181cd8-0e9d-43f1-9bde-b043fd01870a')\"\n",
              "              title=\"Suggest charts.\"\n",
              "              style=\"display:none;\">\n",
              "\n",
              "<svg xmlns=\"http://www.w3.org/2000/svg\" height=\"24px\"viewBox=\"0 0 24 24\"\n",
              "     width=\"24px\">\n",
              "    <g>\n",
              "        <path d=\"M19 3H5c-1.1 0-2 .9-2 2v14c0 1.1.9 2 2 2h14c1.1 0 2-.9 2-2V5c0-1.1-.9-2-2-2zM9 17H7v-7h2v7zm4 0h-2V7h2v10zm4 0h-2v-4h2v4z\"/>\n",
              "    </g>\n",
              "</svg>\n",
              "      </button>\n",
              "    </div>\n",
              "\n",
              "<style>\n",
              "  .colab-df-quickchart {\n",
              "    background-color: #E8F0FE;\n",
              "    border: none;\n",
              "    border-radius: 50%;\n",
              "    cursor: pointer;\n",
              "    display: none;\n",
              "    fill: #1967D2;\n",
              "    height: 32px;\n",
              "    padding: 0 0 0 0;\n",
              "    width: 32px;\n",
              "  }\n",
              "\n",
              "  .colab-df-quickchart:hover {\n",
              "    background-color: #E2EBFA;\n",
              "    box-shadow: 0px 1px 2px rgba(60, 64, 67, 0.3), 0px 1px 3px 1px rgba(60, 64, 67, 0.15);\n",
              "    fill: #174EA6;\n",
              "  }\n",
              "\n",
              "  [theme=dark] .colab-df-quickchart {\n",
              "    background-color: #3B4455;\n",
              "    fill: #D2E3FC;\n",
              "  }\n",
              "\n",
              "  [theme=dark] .colab-df-quickchart:hover {\n",
              "    background-color: #434B5C;\n",
              "    box-shadow: 0px 1px 3px 1px rgba(0, 0, 0, 0.15);\n",
              "    filter: drop-shadow(0px 1px 2px rgba(0, 0, 0, 0.3));\n",
              "    fill: #FFFFFF;\n",
              "  }\n",
              "</style>\n",
              "\n",
              "    <script>\n",
              "      async function quickchart(key) {\n",
              "        const containerElement = document.querySelector('#' + key);\n",
              "        const charts = await google.colab.kernel.invokeFunction(\n",
              "            'suggestCharts', [key], {});\n",
              "      }\n",
              "    </script>\n",
              "\n",
              "      <script>\n",
              "\n",
              "function displayQuickchartButton(domScope) {\n",
              "  let quickchartButtonEl =\n",
              "    domScope.querySelector('#df-5e181cd8-0e9d-43f1-9bde-b043fd01870a button.colab-df-quickchart');\n",
              "  quickchartButtonEl.style.display =\n",
              "    google.colab.kernel.accessAllowed ? 'block' : 'none';\n",
              "}\n",
              "\n",
              "        displayQuickchartButton(document);\n",
              "      </script>\n",
              "      <style>\n",
              "    .colab-df-container {\n",
              "      display:flex;\n",
              "      flex-wrap:wrap;\n",
              "      gap: 12px;\n",
              "    }\n",
              "\n",
              "    .colab-df-convert {\n",
              "      background-color: #E8F0FE;\n",
              "      border: none;\n",
              "      border-radius: 50%;\n",
              "      cursor: pointer;\n",
              "      display: none;\n",
              "      fill: #1967D2;\n",
              "      height: 32px;\n",
              "      padding: 0 0 0 0;\n",
              "      width: 32px;\n",
              "    }\n",
              "\n",
              "    .colab-df-convert:hover {\n",
              "      background-color: #E2EBFA;\n",
              "      box-shadow: 0px 1px 2px rgba(60, 64, 67, 0.3), 0px 1px 3px 1px rgba(60, 64, 67, 0.15);\n",
              "      fill: #174EA6;\n",
              "    }\n",
              "\n",
              "    [theme=dark] .colab-df-convert {\n",
              "      background-color: #3B4455;\n",
              "      fill: #D2E3FC;\n",
              "    }\n",
              "\n",
              "    [theme=dark] .colab-df-convert:hover {\n",
              "      background-color: #434B5C;\n",
              "      box-shadow: 0px 1px 3px 1px rgba(0, 0, 0, 0.15);\n",
              "      filter: drop-shadow(0px 1px 2px rgba(0, 0, 0, 0.3));\n",
              "      fill: #FFFFFF;\n",
              "    }\n",
              "  </style>\n",
              "\n",
              "      <script>\n",
              "        const buttonEl =\n",
              "          document.querySelector('#df-0b36860a-19c0-4752-8420-c1ae93826c83 button.colab-df-convert');\n",
              "        buttonEl.style.display =\n",
              "          google.colab.kernel.accessAllowed ? 'block' : 'none';\n",
              "\n",
              "        async function convertToInteractive(key) {\n",
              "          const element = document.querySelector('#df-0b36860a-19c0-4752-8420-c1ae93826c83');\n",
              "          const dataTable =\n",
              "            await google.colab.kernel.invokeFunction('convertToInteractive',\n",
              "                                                     [key], {});\n",
              "          if (!dataTable) return;\n",
              "\n",
              "          const docLinkHtml = 'Like what you see? Visit the ' +\n",
              "            '<a target=\"_blank\" href=https://colab.research.google.com/notebooks/data_table.ipynb>data table notebook</a>'\n",
              "            + ' to learn more about interactive tables.';\n",
              "          element.innerHTML = '';\n",
              "          dataTable['output_type'] = 'display_data';\n",
              "          await google.colab.output.renderOutput(dataTable, element);\n",
              "          const docLink = document.createElement('div');\n",
              "          docLink.innerHTML = docLinkHtml;\n",
              "          element.appendChild(docLink);\n",
              "        }\n",
              "      </script>\n",
              "    </div>\n",
              "  </div>\n"
            ]
          },
          "metadata": {},
          "execution_count": 22
        }
      ]
    },
    {
      "cell_type": "code",
      "source": [
        "# labeling_list = ['Living in?']\n",
        "# for col in labeling_list:\n",
        "#   # df1[col] = le.fit_transform(df1[col])\n",
        "#   df_encoded = pd.get_dummies(df1[col], prefix=col )\n",
        "#   df1 = pd.concat([df1, df_encoded], axis=1)\n",
        "#   df1 = df1.drop(col,axis=1)"
      ],
      "metadata": {
        "id": "rOUhYyi7AnrN"
      },
      "execution_count": null,
      "outputs": []
    },
    {
      "cell_type": "code",
      "source": [
        "df1['Living in?'] = le.fit_transform(df1['Living in?'])"
      ],
      "metadata": {
        "id": "qs-a2EOgyrka"
      },
      "execution_count": null,
      "outputs": []
    },
    {
      "cell_type": "code",
      "source": [
        "df1['Smoker?'] = le.fit_transform(df1['Smoker?'])"
      ],
      "metadata": {
        "id": "5GZ_vbUY_HGy"
      },
      "execution_count": null,
      "outputs": []
    },
    {
      "cell_type": "code",
      "source": [
        "df1.head(5)"
      ],
      "metadata": {
        "colab": {
          "base_uri": "https://localhost:8080/"
        },
        "id": "pVnFQvTKg-Ow",
        "outputId": "81b00713-e852-4c51-b020-64b52e568a15"
      },
      "execution_count": null,
      "outputs": [
        {
          "output_type": "execute_result",
          "data": {
            "text/plain": [
              "   Specific ailments  Age        BMI  Smoker?  Living in?  Follow Diet  \\\n",
              "0                 44   49  20.500470        0           0          1.0   \n",
              "1                 39   20  26.076580        0           1          0.0   \n",
              "2                 29    1  21.420866        0           1          1.0   \n",
              "3                 27   30  25.203247        0           0          1.0   \n",
              "4                  9   40  19.355846        1           0          1.0   \n",
              "\n",
              "   Physical activity  Regular sleeping hours  Alcohol consumption  \\\n",
              "0                0.0                     0.0                  0.0   \n",
              "1                0.0                     0.0                  0.0   \n",
              "2                0.0                     0.0                  0.0   \n",
              "3                0.0                     0.0                  0.0   \n",
              "4                0.0                     0.0                  0.0   \n",
              "\n",
              "   Social interaction  ...  DX2  DX3  DX4  DX5  DX6  1.0  2.0  3.0  4.0  5.0  \n",
              "0                 0.0  ...    0    0    0    0    1    1    0    0    0    0  \n",
              "1                 1.0  ...    0    1    1    0    0    1    0    0    0    0  \n",
              "2                 0.0  ...    0    0    0    0    1    1    0    0    0    0  \n",
              "3                 0.0  ...    0    0    0    0    0    1    0    0    0    0  \n",
              "4                 1.0  ...    0    0    0    0    1    0    1    0    0    0  \n",
              "\n",
              "[5 rows x 24 columns]"
            ],
            "text/html": [
              "\n",
              "\n",
              "  <div id=\"df-c25f643c-6f9b-4fd7-ac3e-25d2564f90e6\">\n",
              "    <div class=\"colab-df-container\">\n",
              "      <div>\n",
              "<style scoped>\n",
              "    .dataframe tbody tr th:only-of-type {\n",
              "        vertical-align: middle;\n",
              "    }\n",
              "\n",
              "    .dataframe tbody tr th {\n",
              "        vertical-align: top;\n",
              "    }\n",
              "\n",
              "    .dataframe thead th {\n",
              "        text-align: right;\n",
              "    }\n",
              "</style>\n",
              "<table border=\"1\" class=\"dataframe\">\n",
              "  <thead>\n",
              "    <tr style=\"text-align: right;\">\n",
              "      <th></th>\n",
              "      <th>Specific ailments</th>\n",
              "      <th>Age</th>\n",
              "      <th>BMI</th>\n",
              "      <th>Smoker?</th>\n",
              "      <th>Living in?</th>\n",
              "      <th>Follow Diet</th>\n",
              "      <th>Physical activity</th>\n",
              "      <th>Regular sleeping hours</th>\n",
              "      <th>Alcohol consumption</th>\n",
              "      <th>Social interaction</th>\n",
              "      <th>...</th>\n",
              "      <th>DX2</th>\n",
              "      <th>DX3</th>\n",
              "      <th>DX4</th>\n",
              "      <th>DX5</th>\n",
              "      <th>DX6</th>\n",
              "      <th>1.0</th>\n",
              "      <th>2.0</th>\n",
              "      <th>3.0</th>\n",
              "      <th>4.0</th>\n",
              "      <th>5.0</th>\n",
              "    </tr>\n",
              "  </thead>\n",
              "  <tbody>\n",
              "    <tr>\n",
              "      <th>0</th>\n",
              "      <td>44</td>\n",
              "      <td>49</td>\n",
              "      <td>20.500470</td>\n",
              "      <td>0</td>\n",
              "      <td>0</td>\n",
              "      <td>1.0</td>\n",
              "      <td>0.0</td>\n",
              "      <td>0.0</td>\n",
              "      <td>0.0</td>\n",
              "      <td>0.0</td>\n",
              "      <td>...</td>\n",
              "      <td>0</td>\n",
              "      <td>0</td>\n",
              "      <td>0</td>\n",
              "      <td>0</td>\n",
              "      <td>1</td>\n",
              "      <td>1</td>\n",
              "      <td>0</td>\n",
              "      <td>0</td>\n",
              "      <td>0</td>\n",
              "      <td>0</td>\n",
              "    </tr>\n",
              "    <tr>\n",
              "      <th>1</th>\n",
              "      <td>39</td>\n",
              "      <td>20</td>\n",
              "      <td>26.076580</td>\n",
              "      <td>0</td>\n",
              "      <td>1</td>\n",
              "      <td>0.0</td>\n",
              "      <td>0.0</td>\n",
              "      <td>0.0</td>\n",
              "      <td>0.0</td>\n",
              "      <td>1.0</td>\n",
              "      <td>...</td>\n",
              "      <td>0</td>\n",
              "      <td>1</td>\n",
              "      <td>1</td>\n",
              "      <td>0</td>\n",
              "      <td>0</td>\n",
              "      <td>1</td>\n",
              "      <td>0</td>\n",
              "      <td>0</td>\n",
              "      <td>0</td>\n",
              "      <td>0</td>\n",
              "    </tr>\n",
              "    <tr>\n",
              "      <th>2</th>\n",
              "      <td>29</td>\n",
              "      <td>1</td>\n",
              "      <td>21.420866</td>\n",
              "      <td>0</td>\n",
              "      <td>1</td>\n",
              "      <td>1.0</td>\n",
              "      <td>0.0</td>\n",
              "      <td>0.0</td>\n",
              "      <td>0.0</td>\n",
              "      <td>0.0</td>\n",
              "      <td>...</td>\n",
              "      <td>0</td>\n",
              "      <td>0</td>\n",
              "      <td>0</td>\n",
              "      <td>0</td>\n",
              "      <td>1</td>\n",
              "      <td>1</td>\n",
              "      <td>0</td>\n",
              "      <td>0</td>\n",
              "      <td>0</td>\n",
              "      <td>0</td>\n",
              "    </tr>\n",
              "    <tr>\n",
              "      <th>3</th>\n",
              "      <td>27</td>\n",
              "      <td>30</td>\n",
              "      <td>25.203247</td>\n",
              "      <td>0</td>\n",
              "      <td>0</td>\n",
              "      <td>1.0</td>\n",
              "      <td>0.0</td>\n",
              "      <td>0.0</td>\n",
              "      <td>0.0</td>\n",
              "      <td>0.0</td>\n",
              "      <td>...</td>\n",
              "      <td>0</td>\n",
              "      <td>0</td>\n",
              "      <td>0</td>\n",
              "      <td>0</td>\n",
              "      <td>0</td>\n",
              "      <td>1</td>\n",
              "      <td>0</td>\n",
              "      <td>0</td>\n",
              "      <td>0</td>\n",
              "      <td>0</td>\n",
              "    </tr>\n",
              "    <tr>\n",
              "      <th>4</th>\n",
              "      <td>9</td>\n",
              "      <td>40</td>\n",
              "      <td>19.355846</td>\n",
              "      <td>1</td>\n",
              "      <td>0</td>\n",
              "      <td>1.0</td>\n",
              "      <td>0.0</td>\n",
              "      <td>0.0</td>\n",
              "      <td>0.0</td>\n",
              "      <td>1.0</td>\n",
              "      <td>...</td>\n",
              "      <td>0</td>\n",
              "      <td>0</td>\n",
              "      <td>0</td>\n",
              "      <td>0</td>\n",
              "      <td>1</td>\n",
              "      <td>0</td>\n",
              "      <td>1</td>\n",
              "      <td>0</td>\n",
              "      <td>0</td>\n",
              "      <td>0</td>\n",
              "    </tr>\n",
              "  </tbody>\n",
              "</table>\n",
              "<p>5 rows × 24 columns</p>\n",
              "</div>\n",
              "      <button class=\"colab-df-convert\" onclick=\"convertToInteractive('df-c25f643c-6f9b-4fd7-ac3e-25d2564f90e6')\"\n",
              "              title=\"Convert this dataframe to an interactive table.\"\n",
              "              style=\"display:none;\">\n",
              "\n",
              "  <svg xmlns=\"http://www.w3.org/2000/svg\" height=\"24px\"viewBox=\"0 0 24 24\"\n",
              "       width=\"24px\">\n",
              "    <path d=\"M0 0h24v24H0V0z\" fill=\"none\"/>\n",
              "    <path d=\"M18.56 5.44l.94 2.06.94-2.06 2.06-.94-2.06-.94-.94-2.06-.94 2.06-2.06.94zm-11 1L8.5 8.5l.94-2.06 2.06-.94-2.06-.94L8.5 2.5l-.94 2.06-2.06.94zm10 10l.94 2.06.94-2.06 2.06-.94-2.06-.94-.94-2.06-.94 2.06-2.06.94z\"/><path d=\"M17.41 7.96l-1.37-1.37c-.4-.4-.92-.59-1.43-.59-.52 0-1.04.2-1.43.59L10.3 9.45l-7.72 7.72c-.78.78-.78 2.05 0 2.83L4 21.41c.39.39.9.59 1.41.59.51 0 1.02-.2 1.41-.59l7.78-7.78 2.81-2.81c.8-.78.8-2.07 0-2.86zM5.41 20L4 18.59l7.72-7.72 1.47 1.35L5.41 20z\"/>\n",
              "  </svg>\n",
              "      </button>\n",
              "\n",
              "\n",
              "\n",
              "    <div id=\"df-553c6ebb-de81-4cdb-8d2f-d0b9b9406ab7\">\n",
              "      <button class=\"colab-df-quickchart\" onclick=\"quickchart('df-553c6ebb-de81-4cdb-8d2f-d0b9b9406ab7')\"\n",
              "              title=\"Suggest charts.\"\n",
              "              style=\"display:none;\">\n",
              "\n",
              "<svg xmlns=\"http://www.w3.org/2000/svg\" height=\"24px\"viewBox=\"0 0 24 24\"\n",
              "     width=\"24px\">\n",
              "    <g>\n",
              "        <path d=\"M19 3H5c-1.1 0-2 .9-2 2v14c0 1.1.9 2 2 2h14c1.1 0 2-.9 2-2V5c0-1.1-.9-2-2-2zM9 17H7v-7h2v7zm4 0h-2V7h2v10zm4 0h-2v-4h2v4z\"/>\n",
              "    </g>\n",
              "</svg>\n",
              "      </button>\n",
              "    </div>\n",
              "\n",
              "<style>\n",
              "  .colab-df-quickchart {\n",
              "    background-color: #E8F0FE;\n",
              "    border: none;\n",
              "    border-radius: 50%;\n",
              "    cursor: pointer;\n",
              "    display: none;\n",
              "    fill: #1967D2;\n",
              "    height: 32px;\n",
              "    padding: 0 0 0 0;\n",
              "    width: 32px;\n",
              "  }\n",
              "\n",
              "  .colab-df-quickchart:hover {\n",
              "    background-color: #E2EBFA;\n",
              "    box-shadow: 0px 1px 2px rgba(60, 64, 67, 0.3), 0px 1px 3px 1px rgba(60, 64, 67, 0.15);\n",
              "    fill: #174EA6;\n",
              "  }\n",
              "\n",
              "  [theme=dark] .colab-df-quickchart {\n",
              "    background-color: #3B4455;\n",
              "    fill: #D2E3FC;\n",
              "  }\n",
              "\n",
              "  [theme=dark] .colab-df-quickchart:hover {\n",
              "    background-color: #434B5C;\n",
              "    box-shadow: 0px 1px 3px 1px rgba(0, 0, 0, 0.15);\n",
              "    filter: drop-shadow(0px 1px 2px rgba(0, 0, 0, 0.3));\n",
              "    fill: #FFFFFF;\n",
              "  }\n",
              "</style>\n",
              "\n",
              "    <script>\n",
              "      async function quickchart(key) {\n",
              "        const containerElement = document.querySelector('#' + key);\n",
              "        const charts = await google.colab.kernel.invokeFunction(\n",
              "            'suggestCharts', [key], {});\n",
              "      }\n",
              "    </script>\n",
              "\n",
              "      <script>\n",
              "\n",
              "function displayQuickchartButton(domScope) {\n",
              "  let quickchartButtonEl =\n",
              "    domScope.querySelector('#df-553c6ebb-de81-4cdb-8d2f-d0b9b9406ab7 button.colab-df-quickchart');\n",
              "  quickchartButtonEl.style.display =\n",
              "    google.colab.kernel.accessAllowed ? 'block' : 'none';\n",
              "}\n",
              "\n",
              "        displayQuickchartButton(document);\n",
              "      </script>\n",
              "      <style>\n",
              "    .colab-df-container {\n",
              "      display:flex;\n",
              "      flex-wrap:wrap;\n",
              "      gap: 12px;\n",
              "    }\n",
              "\n",
              "    .colab-df-convert {\n",
              "      background-color: #E8F0FE;\n",
              "      border: none;\n",
              "      border-radius: 50%;\n",
              "      cursor: pointer;\n",
              "      display: none;\n",
              "      fill: #1967D2;\n",
              "      height: 32px;\n",
              "      padding: 0 0 0 0;\n",
              "      width: 32px;\n",
              "    }\n",
              "\n",
              "    .colab-df-convert:hover {\n",
              "      background-color: #E2EBFA;\n",
              "      box-shadow: 0px 1px 2px rgba(60, 64, 67, 0.3), 0px 1px 3px 1px rgba(60, 64, 67, 0.15);\n",
              "      fill: #174EA6;\n",
              "    }\n",
              "\n",
              "    [theme=dark] .colab-df-convert {\n",
              "      background-color: #3B4455;\n",
              "      fill: #D2E3FC;\n",
              "    }\n",
              "\n",
              "    [theme=dark] .colab-df-convert:hover {\n",
              "      background-color: #434B5C;\n",
              "      box-shadow: 0px 1px 3px 1px rgba(0, 0, 0, 0.15);\n",
              "      filter: drop-shadow(0px 1px 2px rgba(0, 0, 0, 0.3));\n",
              "      fill: #FFFFFF;\n",
              "    }\n",
              "  </style>\n",
              "\n",
              "      <script>\n",
              "        const buttonEl =\n",
              "          document.querySelector('#df-c25f643c-6f9b-4fd7-ac3e-25d2564f90e6 button.colab-df-convert');\n",
              "        buttonEl.style.display =\n",
              "          google.colab.kernel.accessAllowed ? 'block' : 'none';\n",
              "\n",
              "        async function convertToInteractive(key) {\n",
              "          const element = document.querySelector('#df-c25f643c-6f9b-4fd7-ac3e-25d2564f90e6');\n",
              "          const dataTable =\n",
              "            await google.colab.kernel.invokeFunction('convertToInteractive',\n",
              "                                                     [key], {});\n",
              "          if (!dataTable) return;\n",
              "\n",
              "          const docLinkHtml = 'Like what you see? Visit the ' +\n",
              "            '<a target=\"_blank\" href=https://colab.research.google.com/notebooks/data_table.ipynb>data table notebook</a>'\n",
              "            + ' to learn more about interactive tables.';\n",
              "          element.innerHTML = '';\n",
              "          dataTable['output_type'] = 'display_data';\n",
              "          await google.colab.output.renderOutput(dataTable, element);\n",
              "          const docLink = document.createElement('div');\n",
              "          docLink.innerHTML = docLinkHtml;\n",
              "          element.appendChild(docLink);\n",
              "        }\n",
              "      </script>\n",
              "    </div>\n",
              "  </div>\n"
            ]
          },
          "metadata": {},
          "execution_count": 26
        }
      ]
    },
    {
      "cell_type": "code",
      "source": [
        "# #adding score column\n",
        "# # l = df1[(df1['Healthy']==1) & (df1['DX6']==1)]\n",
        "# # l\n",
        "# df1.describe()"
      ],
      "metadata": {
        "id": "cqui-RRcvPcU"
      },
      "execution_count": null,
      "outputs": []
    },
    {
      "cell_type": "code",
      "source": [
        "col_no = 12\n",
        "df1 = df1.drop(df1.columns[col_no], axis=1)"
      ],
      "metadata": {
        "id": "RBrI6zS4_pv2"
      },
      "execution_count": null,
      "outputs": []
    },
    {
      "cell_type": "code",
      "source": [
        "df1.head()"
      ],
      "metadata": {
        "colab": {
          "base_uri": "https://localhost:8080/"
        },
        "id": "jPghQq0HNE6Y",
        "outputId": "5f5ce39d-8230-4def-b4e8-738053e9de1e"
      },
      "execution_count": null,
      "outputs": [
        {
          "output_type": "execute_result",
          "data": {
            "text/plain": [
              "   Specific ailments  Age        BMI  Smoker?  Living in?  Follow Diet  \\\n",
              "0                 44   49  20.500470        0           0          1.0   \n",
              "1                 39   20  26.076580        0           1          0.0   \n",
              "2                 29    1  21.420866        0           1          1.0   \n",
              "3                 27   30  25.203247        0           0          1.0   \n",
              "4                  9   40  19.355846        1           0          1.0   \n",
              "\n",
              "   Physical activity  Regular sleeping hours  Alcohol consumption  \\\n",
              "0                0.0                     0.0                  0.0   \n",
              "1                0.0                     0.0                  0.0   \n",
              "2                0.0                     0.0                  0.0   \n",
              "3                0.0                     0.0                  0.0   \n",
              "4                0.0                     0.0                  0.0   \n",
              "\n",
              "   Social interaction  ...  DX2  DX3  DX4  DX5  DX6  1.0  2.0  3.0  4.0  5.0  \n",
              "0                 0.0  ...    0    0    0    0    1    1    0    0    0    0  \n",
              "1                 1.0  ...    0    1    1    0    0    1    0    0    0    0  \n",
              "2                 0.0  ...    0    0    0    0    1    1    0    0    0    0  \n",
              "3                 0.0  ...    0    0    0    0    0    1    0    0    0    0  \n",
              "4                 1.0  ...    0    0    0    0    1    0    1    0    0    0  \n",
              "\n",
              "[5 rows x 23 columns]"
            ],
            "text/html": [
              "\n",
              "\n",
              "  <div id=\"df-8c94a3e3-a13b-4d6d-bb61-b839cef3e0b5\">\n",
              "    <div class=\"colab-df-container\">\n",
              "      <div>\n",
              "<style scoped>\n",
              "    .dataframe tbody tr th:only-of-type {\n",
              "        vertical-align: middle;\n",
              "    }\n",
              "\n",
              "    .dataframe tbody tr th {\n",
              "        vertical-align: top;\n",
              "    }\n",
              "\n",
              "    .dataframe thead th {\n",
              "        text-align: right;\n",
              "    }\n",
              "</style>\n",
              "<table border=\"1\" class=\"dataframe\">\n",
              "  <thead>\n",
              "    <tr style=\"text-align: right;\">\n",
              "      <th></th>\n",
              "      <th>Specific ailments</th>\n",
              "      <th>Age</th>\n",
              "      <th>BMI</th>\n",
              "      <th>Smoker?</th>\n",
              "      <th>Living in?</th>\n",
              "      <th>Follow Diet</th>\n",
              "      <th>Physical activity</th>\n",
              "      <th>Regular sleeping hours</th>\n",
              "      <th>Alcohol consumption</th>\n",
              "      <th>Social interaction</th>\n",
              "      <th>...</th>\n",
              "      <th>DX2</th>\n",
              "      <th>DX3</th>\n",
              "      <th>DX4</th>\n",
              "      <th>DX5</th>\n",
              "      <th>DX6</th>\n",
              "      <th>1.0</th>\n",
              "      <th>2.0</th>\n",
              "      <th>3.0</th>\n",
              "      <th>4.0</th>\n",
              "      <th>5.0</th>\n",
              "    </tr>\n",
              "  </thead>\n",
              "  <tbody>\n",
              "    <tr>\n",
              "      <th>0</th>\n",
              "      <td>44</td>\n",
              "      <td>49</td>\n",
              "      <td>20.500470</td>\n",
              "      <td>0</td>\n",
              "      <td>0</td>\n",
              "      <td>1.0</td>\n",
              "      <td>0.0</td>\n",
              "      <td>0.0</td>\n",
              "      <td>0.0</td>\n",
              "      <td>0.0</td>\n",
              "      <td>...</td>\n",
              "      <td>0</td>\n",
              "      <td>0</td>\n",
              "      <td>0</td>\n",
              "      <td>0</td>\n",
              "      <td>1</td>\n",
              "      <td>1</td>\n",
              "      <td>0</td>\n",
              "      <td>0</td>\n",
              "      <td>0</td>\n",
              "      <td>0</td>\n",
              "    </tr>\n",
              "    <tr>\n",
              "      <th>1</th>\n",
              "      <td>39</td>\n",
              "      <td>20</td>\n",
              "      <td>26.076580</td>\n",
              "      <td>0</td>\n",
              "      <td>1</td>\n",
              "      <td>0.0</td>\n",
              "      <td>0.0</td>\n",
              "      <td>0.0</td>\n",
              "      <td>0.0</td>\n",
              "      <td>1.0</td>\n",
              "      <td>...</td>\n",
              "      <td>0</td>\n",
              "      <td>1</td>\n",
              "      <td>1</td>\n",
              "      <td>0</td>\n",
              "      <td>0</td>\n",
              "      <td>1</td>\n",
              "      <td>0</td>\n",
              "      <td>0</td>\n",
              "      <td>0</td>\n",
              "      <td>0</td>\n",
              "    </tr>\n",
              "    <tr>\n",
              "      <th>2</th>\n",
              "      <td>29</td>\n",
              "      <td>1</td>\n",
              "      <td>21.420866</td>\n",
              "      <td>0</td>\n",
              "      <td>1</td>\n",
              "      <td>1.0</td>\n",
              "      <td>0.0</td>\n",
              "      <td>0.0</td>\n",
              "      <td>0.0</td>\n",
              "      <td>0.0</td>\n",
              "      <td>...</td>\n",
              "      <td>0</td>\n",
              "      <td>0</td>\n",
              "      <td>0</td>\n",
              "      <td>0</td>\n",
              "      <td>1</td>\n",
              "      <td>1</td>\n",
              "      <td>0</td>\n",
              "      <td>0</td>\n",
              "      <td>0</td>\n",
              "      <td>0</td>\n",
              "    </tr>\n",
              "    <tr>\n",
              "      <th>3</th>\n",
              "      <td>27</td>\n",
              "      <td>30</td>\n",
              "      <td>25.203247</td>\n",
              "      <td>0</td>\n",
              "      <td>0</td>\n",
              "      <td>1.0</td>\n",
              "      <td>0.0</td>\n",
              "      <td>0.0</td>\n",
              "      <td>0.0</td>\n",
              "      <td>0.0</td>\n",
              "      <td>...</td>\n",
              "      <td>0</td>\n",
              "      <td>0</td>\n",
              "      <td>0</td>\n",
              "      <td>0</td>\n",
              "      <td>0</td>\n",
              "      <td>1</td>\n",
              "      <td>0</td>\n",
              "      <td>0</td>\n",
              "      <td>0</td>\n",
              "      <td>0</td>\n",
              "    </tr>\n",
              "    <tr>\n",
              "      <th>4</th>\n",
              "      <td>9</td>\n",
              "      <td>40</td>\n",
              "      <td>19.355846</td>\n",
              "      <td>1</td>\n",
              "      <td>0</td>\n",
              "      <td>1.0</td>\n",
              "      <td>0.0</td>\n",
              "      <td>0.0</td>\n",
              "      <td>0.0</td>\n",
              "      <td>1.0</td>\n",
              "      <td>...</td>\n",
              "      <td>0</td>\n",
              "      <td>0</td>\n",
              "      <td>0</td>\n",
              "      <td>0</td>\n",
              "      <td>1</td>\n",
              "      <td>0</td>\n",
              "      <td>1</td>\n",
              "      <td>0</td>\n",
              "      <td>0</td>\n",
              "      <td>0</td>\n",
              "    </tr>\n",
              "  </tbody>\n",
              "</table>\n",
              "<p>5 rows × 23 columns</p>\n",
              "</div>\n",
              "      <button class=\"colab-df-convert\" onclick=\"convertToInteractive('df-8c94a3e3-a13b-4d6d-bb61-b839cef3e0b5')\"\n",
              "              title=\"Convert this dataframe to an interactive table.\"\n",
              "              style=\"display:none;\">\n",
              "\n",
              "  <svg xmlns=\"http://www.w3.org/2000/svg\" height=\"24px\"viewBox=\"0 0 24 24\"\n",
              "       width=\"24px\">\n",
              "    <path d=\"M0 0h24v24H0V0z\" fill=\"none\"/>\n",
              "    <path d=\"M18.56 5.44l.94 2.06.94-2.06 2.06-.94-2.06-.94-.94-2.06-.94 2.06-2.06.94zm-11 1L8.5 8.5l.94-2.06 2.06-.94-2.06-.94L8.5 2.5l-.94 2.06-2.06.94zm10 10l.94 2.06.94-2.06 2.06-.94-2.06-.94-.94-2.06-.94 2.06-2.06.94z\"/><path d=\"M17.41 7.96l-1.37-1.37c-.4-.4-.92-.59-1.43-.59-.52 0-1.04.2-1.43.59L10.3 9.45l-7.72 7.72c-.78.78-.78 2.05 0 2.83L4 21.41c.39.39.9.59 1.41.59.51 0 1.02-.2 1.41-.59l7.78-7.78 2.81-2.81c.8-.78.8-2.07 0-2.86zM5.41 20L4 18.59l7.72-7.72 1.47 1.35L5.41 20z\"/>\n",
              "  </svg>\n",
              "      </button>\n",
              "\n",
              "\n",
              "\n",
              "    <div id=\"df-0f82bf75-23fc-4ea0-9cb4-9849c4a59354\">\n",
              "      <button class=\"colab-df-quickchart\" onclick=\"quickchart('df-0f82bf75-23fc-4ea0-9cb4-9849c4a59354')\"\n",
              "              title=\"Suggest charts.\"\n",
              "              style=\"display:none;\">\n",
              "\n",
              "<svg xmlns=\"http://www.w3.org/2000/svg\" height=\"24px\"viewBox=\"0 0 24 24\"\n",
              "     width=\"24px\">\n",
              "    <g>\n",
              "        <path d=\"M19 3H5c-1.1 0-2 .9-2 2v14c0 1.1.9 2 2 2h14c1.1 0 2-.9 2-2V5c0-1.1-.9-2-2-2zM9 17H7v-7h2v7zm4 0h-2V7h2v10zm4 0h-2v-4h2v4z\"/>\n",
              "    </g>\n",
              "</svg>\n",
              "      </button>\n",
              "    </div>\n",
              "\n",
              "<style>\n",
              "  .colab-df-quickchart {\n",
              "    background-color: #E8F0FE;\n",
              "    border: none;\n",
              "    border-radius: 50%;\n",
              "    cursor: pointer;\n",
              "    display: none;\n",
              "    fill: #1967D2;\n",
              "    height: 32px;\n",
              "    padding: 0 0 0 0;\n",
              "    width: 32px;\n",
              "  }\n",
              "\n",
              "  .colab-df-quickchart:hover {\n",
              "    background-color: #E2EBFA;\n",
              "    box-shadow: 0px 1px 2px rgba(60, 64, 67, 0.3), 0px 1px 3px 1px rgba(60, 64, 67, 0.15);\n",
              "    fill: #174EA6;\n",
              "  }\n",
              "\n",
              "  [theme=dark] .colab-df-quickchart {\n",
              "    background-color: #3B4455;\n",
              "    fill: #D2E3FC;\n",
              "  }\n",
              "\n",
              "  [theme=dark] .colab-df-quickchart:hover {\n",
              "    background-color: #434B5C;\n",
              "    box-shadow: 0px 1px 3px 1px rgba(0, 0, 0, 0.15);\n",
              "    filter: drop-shadow(0px 1px 2px rgba(0, 0, 0, 0.3));\n",
              "    fill: #FFFFFF;\n",
              "  }\n",
              "</style>\n",
              "\n",
              "    <script>\n",
              "      async function quickchart(key) {\n",
              "        const containerElement = document.querySelector('#' + key);\n",
              "        const charts = await google.colab.kernel.invokeFunction(\n",
              "            'suggestCharts', [key], {});\n",
              "      }\n",
              "    </script>\n",
              "\n",
              "      <script>\n",
              "\n",
              "function displayQuickchartButton(domScope) {\n",
              "  let quickchartButtonEl =\n",
              "    domScope.querySelector('#df-0f82bf75-23fc-4ea0-9cb4-9849c4a59354 button.colab-df-quickchart');\n",
              "  quickchartButtonEl.style.display =\n",
              "    google.colab.kernel.accessAllowed ? 'block' : 'none';\n",
              "}\n",
              "\n",
              "        displayQuickchartButton(document);\n",
              "      </script>\n",
              "      <style>\n",
              "    .colab-df-container {\n",
              "      display:flex;\n",
              "      flex-wrap:wrap;\n",
              "      gap: 12px;\n",
              "    }\n",
              "\n",
              "    .colab-df-convert {\n",
              "      background-color: #E8F0FE;\n",
              "      border: none;\n",
              "      border-radius: 50%;\n",
              "      cursor: pointer;\n",
              "      display: none;\n",
              "      fill: #1967D2;\n",
              "      height: 32px;\n",
              "      padding: 0 0 0 0;\n",
              "      width: 32px;\n",
              "    }\n",
              "\n",
              "    .colab-df-convert:hover {\n",
              "      background-color: #E2EBFA;\n",
              "      box-shadow: 0px 1px 2px rgba(60, 64, 67, 0.3), 0px 1px 3px 1px rgba(60, 64, 67, 0.15);\n",
              "      fill: #174EA6;\n",
              "    }\n",
              "\n",
              "    [theme=dark] .colab-df-convert {\n",
              "      background-color: #3B4455;\n",
              "      fill: #D2E3FC;\n",
              "    }\n",
              "\n",
              "    [theme=dark] .colab-df-convert:hover {\n",
              "      background-color: #434B5C;\n",
              "      box-shadow: 0px 1px 3px 1px rgba(0, 0, 0, 0.15);\n",
              "      filter: drop-shadow(0px 1px 2px rgba(0, 0, 0, 0.3));\n",
              "      fill: #FFFFFF;\n",
              "    }\n",
              "  </style>\n",
              "\n",
              "      <script>\n",
              "        const buttonEl =\n",
              "          document.querySelector('#df-8c94a3e3-a13b-4d6d-bb61-b839cef3e0b5 button.colab-df-convert');\n",
              "        buttonEl.style.display =\n",
              "          google.colab.kernel.accessAllowed ? 'block' : 'none';\n",
              "\n",
              "        async function convertToInteractive(key) {\n",
              "          const element = document.querySelector('#df-8c94a3e3-a13b-4d6d-bb61-b839cef3e0b5');\n",
              "          const dataTable =\n",
              "            await google.colab.kernel.invokeFunction('convertToInteractive',\n",
              "                                                     [key], {});\n",
              "          if (!dataTable) return;\n",
              "\n",
              "          const docLinkHtml = 'Like what you see? Visit the ' +\n",
              "            '<a target=\"_blank\" href=https://colab.research.google.com/notebooks/data_table.ipynb>data table notebook</a>'\n",
              "            + ' to learn more about interactive tables.';\n",
              "          element.innerHTML = '';\n",
              "          dataTable['output_type'] = 'display_data';\n",
              "          await google.colab.output.renderOutput(dataTable, element);\n",
              "          const docLink = document.createElement('div');\n",
              "          docLink.innerHTML = docLinkHtml;\n",
              "          element.appendChild(docLink);\n",
              "        }\n",
              "      </script>\n",
              "    </div>\n",
              "  </div>\n"
            ]
          },
          "metadata": {},
          "execution_count": 29
        }
      ]
    },
    {
      "cell_type": "code",
      "source": [
        "# df1['pos_score'] = df1['Follow Diet']+ df1['Physical activity'] + df1['Regular sleeping hours']  + df1['Social interaction'] + df1['Taking supplements']\n",
        "# df1['neg_score'] = - df1['Alcohol consumption'] - df1['Smoker?']"
      ],
      "metadata": {
        "id": "pMyekrbq5kJs"
      },
      "execution_count": null,
      "outputs": []
    },
    {
      "cell_type": "code",
      "source": [
        "# df1['neg_score'].value_counts()"
      ],
      "metadata": {
        "id": "5KRWbQIM7TFF"
      },
      "execution_count": null,
      "outputs": []
    },
    {
      "cell_type": "code",
      "source": [
        "# sns.displot(df1['Age'])"
      ],
      "metadata": {
        "id": "WEKLpA09y545"
      },
      "execution_count": null,
      "outputs": []
    },
    {
      "cell_type": "code",
      "source": [
        "def resample_data(df1):\n",
        "    df1_minority = df1[df1['Healthy'] ==0]\n",
        "    df1_majority = df1[df1['Healthy'] ==1]\n",
        "    df1_minority = resample(df1_minority, replace = True, n_samples = len(df1_majority), random_state = 0)\n",
        "    return pd.concat([df1_minority, df1_majority])\n",
        "df1_res = resample_data(df1)"
      ],
      "metadata": {
        "id": "Agki29hDYPRK"
      },
      "execution_count": null,
      "outputs": []
    },
    {
      "cell_type": "code",
      "source": [
        "y = df1['Healthy']\n",
        "x = df1.drop('Healthy', axis=1)\n",
        "x_train, x_test,y_train ,y_test = train_test_split(x, y, random_state = 0, test_size =0.2)"
      ],
      "metadata": {
        "id": "F4QbjUGp4W2K"
      },
      "execution_count": null,
      "outputs": []
    },
    {
      "cell_type": "code",
      "source": [
        "x_train = scaler.fit_transform(x_train)\n",
        "x_train = pd.DataFrame(x_train)\n",
        "x_test = scaler.transform(x_test)\n",
        "x_test = pd.DataFrame(x_test)"
      ],
      "metadata": {
        "id": "ua0N8OZA0mV9"
      },
      "execution_count": null,
      "outputs": []
    },
    {
      "cell_type": "code",
      "source": [
        "# y_data_res = df1_res['Healthy']\n",
        "# x_data_res = df1_res.drop('Healthy',axis=1)\n",
        "\n",
        "# x_train_res, x_test_res, y_train_res, y_test_res = train_test_split(x_data_res, y_data_res, test_size = 0.2, random_state = 0)\n",
        "\n",
        "# x_train_res = pd.DataFrame(scaler.fit_transform(x_train_res))\n",
        "# x_test_res = pd.DataFrame(scaler.transform(x_test_res))\n"
      ],
      "metadata": {
        "id": "JvdDxaU0nDph"
      },
      "execution_count": null,
      "outputs": []
    },
    {
      "cell_type": "code",
      "source": [
        "# x_train.head(1)"
      ],
      "metadata": {
        "id": "74i22EYL3HcO"
      },
      "execution_count": null,
      "outputs": []
    },
    {
      "cell_type": "markdown",
      "source": [
        "##Data Cleaning Testing Data"
      ],
      "metadata": {
        "id": "JJXuiT_3B98L"
      }
    },
    {
      "cell_type": "code",
      "source": [
        "df_test"
      ],
      "metadata": {
        "colab": {
          "base_uri": "https://localhost:8080/"
        },
        "id": "xneV79JsN0X4",
        "outputId": "88d78942-a0a3-41f1-c4d7-9323ee0c7783"
      },
      "execution_count": null,
      "outputs": [
        {
          "output_type": "execute_result",
          "data": {
            "text/plain": [
              "        ID1  Specific ailments   ID2 Food preference  Age        BMI Smoker?  \\\n",
              "0     28534                  2  3306             DX6   38  18.879331     YES   \n",
              "1      7970                  5  5573            DX1    46  21.231991      NO   \n",
              "2     22039                 37  9305            DX4    11  17.867876      NO   \n",
              "3     12332                 44  8274            DX5    10  26.886096      NO   \n",
              "4      4116                 37  4558        DX3 DX4     3  23.362746      NO   \n",
              "...     ...                ...   ...             ...  ...        ...     ...   \n",
              "6475  23747                 21  3612            DX3    27  28.880884      NO   \n",
              "6476  26138                 27  4169            DX3     8  20.358229      NO   \n",
              "6477   7536                 39  8525             DX6   29  27.365294      NO   \n",
              "6478  29410                 29  1866            DX5    65  22.546412     YES   \n",
              "6479  29372                 44  2943             DX6   44  18.839471     YES   \n",
              "\n",
              "     Living in? Any heriditary condition?  Follow Diet  Physical activity  \\\n",
              "0         URBAN                    Stable          0.0                0.0   \n",
              "1         URBAN                    Stable          1.0                0.0   \n",
              "2         RURAL                    Stable          1.0                0.0   \n",
              "3         RURAL                    Stable          1.0                0.0   \n",
              "4         RURAL                    Stable          0.0                1.0   \n",
              "...         ...                       ...          ...                ...   \n",
              "6475      URBAN                    Stable          1.0                1.0   \n",
              "6476      RURAL                    Stable          1.0                1.0   \n",
              "6477      RURAL                    Stable          0.0                0.0   \n",
              "6478      URBAN                    Stable          1.0                0.0   \n",
              "6479      URBAN                    Stable          1.0                0.0   \n",
              "\n",
              "      Regular sleeping hours  Alcohol consumption  Social interaction  \\\n",
              "0                        0.0                  0.0                 0.0   \n",
              "1                        0.0                  0.0                 0.0   \n",
              "2                        0.0                  0.0                 0.0   \n",
              "3                        0.0                  1.0                 0.0   \n",
              "4                        0.0                  1.0                 0.0   \n",
              "...                      ...                  ...                 ...   \n",
              "6475                     0.0                  0.0                 1.0   \n",
              "6476                     0.0                  0.0                 1.0   \n",
              "6477                     0.0                  0.0                 1.0   \n",
              "6478                     0.0                  0.0                 0.0   \n",
              "6479                     0.0                  0.0                 1.0   \n",
              "\n",
              "      Taking supplements  Mental health management  Illness count last year  \n",
              "0                    1.0                       0.0                      1.0  \n",
              "1                    0.0                       0.0                      1.0  \n",
              "2                    0.0                       0.0                      1.0  \n",
              "3                    0.0                       0.0                      2.0  \n",
              "4                    0.0                       0.0                      2.0  \n",
              "...                  ...                       ...                      ...  \n",
              "6475                 0.0                       0.0                      3.0  \n",
              "6476                 0.0                       0.0                      3.0  \n",
              "6477                 0.0                       0.0                      1.0  \n",
              "6478                 0.0                       0.0                      1.0  \n",
              "6479                 0.0                       0.0                      2.0  \n",
              "\n",
              "[6480 rows x 17 columns]"
            ],
            "text/html": [
              "\n",
              "\n",
              "  <div id=\"df-90169ba4-f3ef-46a9-b7fa-fa3724e56bc5\">\n",
              "    <div class=\"colab-df-container\">\n",
              "      <div>\n",
              "<style scoped>\n",
              "    .dataframe tbody tr th:only-of-type {\n",
              "        vertical-align: middle;\n",
              "    }\n",
              "\n",
              "    .dataframe tbody tr th {\n",
              "        vertical-align: top;\n",
              "    }\n",
              "\n",
              "    .dataframe thead th {\n",
              "        text-align: right;\n",
              "    }\n",
              "</style>\n",
              "<table border=\"1\" class=\"dataframe\">\n",
              "  <thead>\n",
              "    <tr style=\"text-align: right;\">\n",
              "      <th></th>\n",
              "      <th>ID1</th>\n",
              "      <th>Specific ailments</th>\n",
              "      <th>ID2</th>\n",
              "      <th>Food preference</th>\n",
              "      <th>Age</th>\n",
              "      <th>BMI</th>\n",
              "      <th>Smoker?</th>\n",
              "      <th>Living in?</th>\n",
              "      <th>Any heriditary condition?</th>\n",
              "      <th>Follow Diet</th>\n",
              "      <th>Physical activity</th>\n",
              "      <th>Regular sleeping hours</th>\n",
              "      <th>Alcohol consumption</th>\n",
              "      <th>Social interaction</th>\n",
              "      <th>Taking supplements</th>\n",
              "      <th>Mental health management</th>\n",
              "      <th>Illness count last year</th>\n",
              "    </tr>\n",
              "  </thead>\n",
              "  <tbody>\n",
              "    <tr>\n",
              "      <th>0</th>\n",
              "      <td>28534</td>\n",
              "      <td>2</td>\n",
              "      <td>3306</td>\n",
              "      <td>DX6</td>\n",
              "      <td>38</td>\n",
              "      <td>18.879331</td>\n",
              "      <td>YES</td>\n",
              "      <td>URBAN</td>\n",
              "      <td>Stable</td>\n",
              "      <td>0.0</td>\n",
              "      <td>0.0</td>\n",
              "      <td>0.0</td>\n",
              "      <td>0.0</td>\n",
              "      <td>0.0</td>\n",
              "      <td>1.0</td>\n",
              "      <td>0.0</td>\n",
              "      <td>1.0</td>\n",
              "    </tr>\n",
              "    <tr>\n",
              "      <th>1</th>\n",
              "      <td>7970</td>\n",
              "      <td>5</td>\n",
              "      <td>5573</td>\n",
              "      <td>DX1</td>\n",
              "      <td>46</td>\n",
              "      <td>21.231991</td>\n",
              "      <td>NO</td>\n",
              "      <td>URBAN</td>\n",
              "      <td>Stable</td>\n",
              "      <td>1.0</td>\n",
              "      <td>0.0</td>\n",
              "      <td>0.0</td>\n",
              "      <td>0.0</td>\n",
              "      <td>0.0</td>\n",
              "      <td>0.0</td>\n",
              "      <td>0.0</td>\n",
              "      <td>1.0</td>\n",
              "    </tr>\n",
              "    <tr>\n",
              "      <th>2</th>\n",
              "      <td>22039</td>\n",
              "      <td>37</td>\n",
              "      <td>9305</td>\n",
              "      <td>DX4</td>\n",
              "      <td>11</td>\n",
              "      <td>17.867876</td>\n",
              "      <td>NO</td>\n",
              "      <td>RURAL</td>\n",
              "      <td>Stable</td>\n",
              "      <td>1.0</td>\n",
              "      <td>0.0</td>\n",
              "      <td>0.0</td>\n",
              "      <td>0.0</td>\n",
              "      <td>0.0</td>\n",
              "      <td>0.0</td>\n",
              "      <td>0.0</td>\n",
              "      <td>1.0</td>\n",
              "    </tr>\n",
              "    <tr>\n",
              "      <th>3</th>\n",
              "      <td>12332</td>\n",
              "      <td>44</td>\n",
              "      <td>8274</td>\n",
              "      <td>DX5</td>\n",
              "      <td>10</td>\n",
              "      <td>26.886096</td>\n",
              "      <td>NO</td>\n",
              "      <td>RURAL</td>\n",
              "      <td>Stable</td>\n",
              "      <td>1.0</td>\n",
              "      <td>0.0</td>\n",
              "      <td>0.0</td>\n",
              "      <td>1.0</td>\n",
              "      <td>0.0</td>\n",
              "      <td>0.0</td>\n",
              "      <td>0.0</td>\n",
              "      <td>2.0</td>\n",
              "    </tr>\n",
              "    <tr>\n",
              "      <th>4</th>\n",
              "      <td>4116</td>\n",
              "      <td>37</td>\n",
              "      <td>4558</td>\n",
              "      <td>DX3 DX4</td>\n",
              "      <td>3</td>\n",
              "      <td>23.362746</td>\n",
              "      <td>NO</td>\n",
              "      <td>RURAL</td>\n",
              "      <td>Stable</td>\n",
              "      <td>0.0</td>\n",
              "      <td>1.0</td>\n",
              "      <td>0.0</td>\n",
              "      <td>1.0</td>\n",
              "      <td>0.0</td>\n",
              "      <td>0.0</td>\n",
              "      <td>0.0</td>\n",
              "      <td>2.0</td>\n",
              "    </tr>\n",
              "    <tr>\n",
              "      <th>...</th>\n",
              "      <td>...</td>\n",
              "      <td>...</td>\n",
              "      <td>...</td>\n",
              "      <td>...</td>\n",
              "      <td>...</td>\n",
              "      <td>...</td>\n",
              "      <td>...</td>\n",
              "      <td>...</td>\n",
              "      <td>...</td>\n",
              "      <td>...</td>\n",
              "      <td>...</td>\n",
              "      <td>...</td>\n",
              "      <td>...</td>\n",
              "      <td>...</td>\n",
              "      <td>...</td>\n",
              "      <td>...</td>\n",
              "      <td>...</td>\n",
              "    </tr>\n",
              "    <tr>\n",
              "      <th>6475</th>\n",
              "      <td>23747</td>\n",
              "      <td>21</td>\n",
              "      <td>3612</td>\n",
              "      <td>DX3</td>\n",
              "      <td>27</td>\n",
              "      <td>28.880884</td>\n",
              "      <td>NO</td>\n",
              "      <td>URBAN</td>\n",
              "      <td>Stable</td>\n",
              "      <td>1.0</td>\n",
              "      <td>1.0</td>\n",
              "      <td>0.0</td>\n",
              "      <td>0.0</td>\n",
              "      <td>1.0</td>\n",
              "      <td>0.0</td>\n",
              "      <td>0.0</td>\n",
              "      <td>3.0</td>\n",
              "    </tr>\n",
              "    <tr>\n",
              "      <th>6476</th>\n",
              "      <td>26138</td>\n",
              "      <td>27</td>\n",
              "      <td>4169</td>\n",
              "      <td>DX3</td>\n",
              "      <td>8</td>\n",
              "      <td>20.358229</td>\n",
              "      <td>NO</td>\n",
              "      <td>RURAL</td>\n",
              "      <td>Stable</td>\n",
              "      <td>1.0</td>\n",
              "      <td>1.0</td>\n",
              "      <td>0.0</td>\n",
              "      <td>0.0</td>\n",
              "      <td>1.0</td>\n",
              "      <td>0.0</td>\n",
              "      <td>0.0</td>\n",
              "      <td>3.0</td>\n",
              "    </tr>\n",
              "    <tr>\n",
              "      <th>6477</th>\n",
              "      <td>7536</td>\n",
              "      <td>39</td>\n",
              "      <td>8525</td>\n",
              "      <td>DX6</td>\n",
              "      <td>29</td>\n",
              "      <td>27.365294</td>\n",
              "      <td>NO</td>\n",
              "      <td>RURAL</td>\n",
              "      <td>Stable</td>\n",
              "      <td>0.0</td>\n",
              "      <td>0.0</td>\n",
              "      <td>0.0</td>\n",
              "      <td>0.0</td>\n",
              "      <td>1.0</td>\n",
              "      <td>0.0</td>\n",
              "      <td>0.0</td>\n",
              "      <td>1.0</td>\n",
              "    </tr>\n",
              "    <tr>\n",
              "      <th>6478</th>\n",
              "      <td>29410</td>\n",
              "      <td>29</td>\n",
              "      <td>1866</td>\n",
              "      <td>DX5</td>\n",
              "      <td>65</td>\n",
              "      <td>22.546412</td>\n",
              "      <td>YES</td>\n",
              "      <td>URBAN</td>\n",
              "      <td>Stable</td>\n",
              "      <td>1.0</td>\n",
              "      <td>0.0</td>\n",
              "      <td>0.0</td>\n",
              "      <td>0.0</td>\n",
              "      <td>0.0</td>\n",
              "      <td>0.0</td>\n",
              "      <td>0.0</td>\n",
              "      <td>1.0</td>\n",
              "    </tr>\n",
              "    <tr>\n",
              "      <th>6479</th>\n",
              "      <td>29372</td>\n",
              "      <td>44</td>\n",
              "      <td>2943</td>\n",
              "      <td>DX6</td>\n",
              "      <td>44</td>\n",
              "      <td>18.839471</td>\n",
              "      <td>YES</td>\n",
              "      <td>URBAN</td>\n",
              "      <td>Stable</td>\n",
              "      <td>1.0</td>\n",
              "      <td>0.0</td>\n",
              "      <td>0.0</td>\n",
              "      <td>0.0</td>\n",
              "      <td>1.0</td>\n",
              "      <td>0.0</td>\n",
              "      <td>0.0</td>\n",
              "      <td>2.0</td>\n",
              "    </tr>\n",
              "  </tbody>\n",
              "</table>\n",
              "<p>6480 rows × 17 columns</p>\n",
              "</div>\n",
              "      <button class=\"colab-df-convert\" onclick=\"convertToInteractive('df-90169ba4-f3ef-46a9-b7fa-fa3724e56bc5')\"\n",
              "              title=\"Convert this dataframe to an interactive table.\"\n",
              "              style=\"display:none;\">\n",
              "\n",
              "  <svg xmlns=\"http://www.w3.org/2000/svg\" height=\"24px\"viewBox=\"0 0 24 24\"\n",
              "       width=\"24px\">\n",
              "    <path d=\"M0 0h24v24H0V0z\" fill=\"none\"/>\n",
              "    <path d=\"M18.56 5.44l.94 2.06.94-2.06 2.06-.94-2.06-.94-.94-2.06-.94 2.06-2.06.94zm-11 1L8.5 8.5l.94-2.06 2.06-.94-2.06-.94L8.5 2.5l-.94 2.06-2.06.94zm10 10l.94 2.06.94-2.06 2.06-.94-2.06-.94-.94-2.06-.94 2.06-2.06.94z\"/><path d=\"M17.41 7.96l-1.37-1.37c-.4-.4-.92-.59-1.43-.59-.52 0-1.04.2-1.43.59L10.3 9.45l-7.72 7.72c-.78.78-.78 2.05 0 2.83L4 21.41c.39.39.9.59 1.41.59.51 0 1.02-.2 1.41-.59l7.78-7.78 2.81-2.81c.8-.78.8-2.07 0-2.86zM5.41 20L4 18.59l7.72-7.72 1.47 1.35L5.41 20z\"/>\n",
              "  </svg>\n",
              "      </button>\n",
              "\n",
              "\n",
              "\n",
              "    <div id=\"df-678a3934-a621-497b-a0f2-d27bcd008fce\">\n",
              "      <button class=\"colab-df-quickchart\" onclick=\"quickchart('df-678a3934-a621-497b-a0f2-d27bcd008fce')\"\n",
              "              title=\"Suggest charts.\"\n",
              "              style=\"display:none;\">\n",
              "\n",
              "<svg xmlns=\"http://www.w3.org/2000/svg\" height=\"24px\"viewBox=\"0 0 24 24\"\n",
              "     width=\"24px\">\n",
              "    <g>\n",
              "        <path d=\"M19 3H5c-1.1 0-2 .9-2 2v14c0 1.1.9 2 2 2h14c1.1 0 2-.9 2-2V5c0-1.1-.9-2-2-2zM9 17H7v-7h2v7zm4 0h-2V7h2v10zm4 0h-2v-4h2v4z\"/>\n",
              "    </g>\n",
              "</svg>\n",
              "      </button>\n",
              "    </div>\n",
              "\n",
              "<style>\n",
              "  .colab-df-quickchart {\n",
              "    background-color: #E8F0FE;\n",
              "    border: none;\n",
              "    border-radius: 50%;\n",
              "    cursor: pointer;\n",
              "    display: none;\n",
              "    fill: #1967D2;\n",
              "    height: 32px;\n",
              "    padding: 0 0 0 0;\n",
              "    width: 32px;\n",
              "  }\n",
              "\n",
              "  .colab-df-quickchart:hover {\n",
              "    background-color: #E2EBFA;\n",
              "    box-shadow: 0px 1px 2px rgba(60, 64, 67, 0.3), 0px 1px 3px 1px rgba(60, 64, 67, 0.15);\n",
              "    fill: #174EA6;\n",
              "  }\n",
              "\n",
              "  [theme=dark] .colab-df-quickchart {\n",
              "    background-color: #3B4455;\n",
              "    fill: #D2E3FC;\n",
              "  }\n",
              "\n",
              "  [theme=dark] .colab-df-quickchart:hover {\n",
              "    background-color: #434B5C;\n",
              "    box-shadow: 0px 1px 3px 1px rgba(0, 0, 0, 0.15);\n",
              "    filter: drop-shadow(0px 1px 2px rgba(0, 0, 0, 0.3));\n",
              "    fill: #FFFFFF;\n",
              "  }\n",
              "</style>\n",
              "\n",
              "    <script>\n",
              "      async function quickchart(key) {\n",
              "        const containerElement = document.querySelector('#' + key);\n",
              "        const charts = await google.colab.kernel.invokeFunction(\n",
              "            'suggestCharts', [key], {});\n",
              "      }\n",
              "    </script>\n",
              "\n",
              "      <script>\n",
              "\n",
              "function displayQuickchartButton(domScope) {\n",
              "  let quickchartButtonEl =\n",
              "    domScope.querySelector('#df-678a3934-a621-497b-a0f2-d27bcd008fce button.colab-df-quickchart');\n",
              "  quickchartButtonEl.style.display =\n",
              "    google.colab.kernel.accessAllowed ? 'block' : 'none';\n",
              "}\n",
              "\n",
              "        displayQuickchartButton(document);\n",
              "      </script>\n",
              "      <style>\n",
              "    .colab-df-container {\n",
              "      display:flex;\n",
              "      flex-wrap:wrap;\n",
              "      gap: 12px;\n",
              "    }\n",
              "\n",
              "    .colab-df-convert {\n",
              "      background-color: #E8F0FE;\n",
              "      border: none;\n",
              "      border-radius: 50%;\n",
              "      cursor: pointer;\n",
              "      display: none;\n",
              "      fill: #1967D2;\n",
              "      height: 32px;\n",
              "      padding: 0 0 0 0;\n",
              "      width: 32px;\n",
              "    }\n",
              "\n",
              "    .colab-df-convert:hover {\n",
              "      background-color: #E2EBFA;\n",
              "      box-shadow: 0px 1px 2px rgba(60, 64, 67, 0.3), 0px 1px 3px 1px rgba(60, 64, 67, 0.15);\n",
              "      fill: #174EA6;\n",
              "    }\n",
              "\n",
              "    [theme=dark] .colab-df-convert {\n",
              "      background-color: #3B4455;\n",
              "      fill: #D2E3FC;\n",
              "    }\n",
              "\n",
              "    [theme=dark] .colab-df-convert:hover {\n",
              "      background-color: #434B5C;\n",
              "      box-shadow: 0px 1px 3px 1px rgba(0, 0, 0, 0.15);\n",
              "      filter: drop-shadow(0px 1px 2px rgba(0, 0, 0, 0.3));\n",
              "      fill: #FFFFFF;\n",
              "    }\n",
              "  </style>\n",
              "\n",
              "      <script>\n",
              "        const buttonEl =\n",
              "          document.querySelector('#df-90169ba4-f3ef-46a9-b7fa-fa3724e56bc5 button.colab-df-convert');\n",
              "        buttonEl.style.display =\n",
              "          google.colab.kernel.accessAllowed ? 'block' : 'none';\n",
              "\n",
              "        async function convertToInteractive(key) {\n",
              "          const element = document.querySelector('#df-90169ba4-f3ef-46a9-b7fa-fa3724e56bc5');\n",
              "          const dataTable =\n",
              "            await google.colab.kernel.invokeFunction('convertToInteractive',\n",
              "                                                     [key], {});\n",
              "          if (!dataTable) return;\n",
              "\n",
              "          const docLinkHtml = 'Like what you see? Visit the ' +\n",
              "            '<a target=\"_blank\" href=https://colab.research.google.com/notebooks/data_table.ipynb>data table notebook</a>'\n",
              "            + ' to learn more about interactive tables.';\n",
              "          element.innerHTML = '';\n",
              "          dataTable['output_type'] = 'display_data';\n",
              "          await google.colab.output.renderOutput(dataTable, element);\n",
              "          const docLink = document.createElement('div');\n",
              "          docLink.innerHTML = docLinkHtml;\n",
              "          element.appendChild(docLink);\n",
              "        }\n",
              "      </script>\n",
              "    </div>\n",
              "  </div>\n"
            ]
          },
          "metadata": {},
          "execution_count": 38
        }
      ]
    },
    {
      "cell_type": "code",
      "source": [
        "\n",
        "# sns.displot(df_test[\"BMI\"], kde=True)\n",
        "# plt.show()"
      ],
      "metadata": {
        "id": "s-nyo9W9B98L"
      },
      "execution_count": null,
      "outputs": []
    },
    {
      "cell_type": "code",
      "source": [
        "\n",
        "# bmi = df_test[df_test['BMI']<15]\n",
        "# bmi"
      ],
      "metadata": {
        "id": "EBjQudK_B98L"
      },
      "execution_count": null,
      "outputs": []
    },
    {
      "cell_type": "code",
      "source": [
        "\n",
        "# df_test['Food preference'].value_counts()"
      ],
      "metadata": {
        "id": "7RMV7kSHB98M"
      },
      "execution_count": null,
      "outputs": []
    },
    {
      "cell_type": "code",
      "source": [
        "\n",
        "# bmi2 = df_test[df_test['BMI']>30]\n",
        "# # bmi2.shape\n",
        "# df_test['Smoker?'].value_counts()"
      ],
      "metadata": {
        "id": "8taoa_E8B98M"
      },
      "execution_count": null,
      "outputs": []
    },
    {
      "cell_type": "code",
      "source": [
        "\n",
        "# Null value transformation\n",
        "df_test['Food preference'] = df_test['Food preference'].fillna('DX6')\n",
        "df_test['Smoker?'] = df_test['Smoker?'].fillna('NO')\n",
        "df_test['Follow Diet'] = df_test['Follow Diet'].fillna(value = 1)\n",
        "df_test['Physical activity']= df_test['Physical activity'].fillna(value=0)\n",
        "df_test['Regular sleeping hours'] = df_test['Regular sleeping hours'].fillna(value = 0)\n",
        "df_test['Alcohol consumption'] =df_test['Alcohol consumption'].fillna(value=0)\n",
        "df_test['Taking supplements'] = df_test['Taking supplements'].fillna(value=0)\n",
        "df_test['Mental health management'] = df_test['Mental health management'].fillna(value=0)\n",
        "df_test['Illness count last year'] = df_test['Illness count last year'].fillna(value=1)\n",
        "df_test['Social interaction'] =df_test['Social interaction'].fillna(value=0)"
      ],
      "metadata": {
        "id": "Nh3IUm-fTtqO"
      },
      "execution_count": null,
      "outputs": []
    },
    {
      "cell_type": "code",
      "source": [
        "#encoding\n",
        "df_test_encoded = pd.get_dummies(df_test['Food preference'].str.split(' ', expand=True).stack()).groupby(level=0).sum()\n",
        "df_test = pd.concat([df_test.drop(columns='Food preference'), df_test_encoded], axis=1)\n",
        "\n",
        "df_test_encoded2 = pd.get_dummies(df_test['Illness count last year'])\n",
        "df_test_encoded2 = df_test_encoded2.reset_index(drop = True)\n",
        "df_test = pd.concat([df_test.drop(columns='Illness count last year'), df_test_encoded2], axis=1)\n",
        "df_test.columns = df_test.columns.astype(str)"
      ],
      "metadata": {
        "id": "21Eu_lAUB98M"
      },
      "execution_count": null,
      "outputs": []
    },
    {
      "cell_type": "code",
      "source": [
        "\n",
        "# df_test.isnull().sum()"
      ],
      "metadata": {
        "id": "OElhm1TRQj7W"
      },
      "execution_count": null,
      "outputs": []
    },
    {
      "cell_type": "code",
      "source": [
        "\n",
        "# col_list = ['Smoker?','Living in?','Any heriditary condition?','Follow Diet','Physical activity','Regular sleeping hours','Alcohol consumption','Social interaction','Taking supplements','Mental health management','Illness count last year']"
      ],
      "metadata": {
        "id": "4oG1fH-qB98M"
      },
      "execution_count": null,
      "outputs": []
    },
    {
      "cell_type": "code",
      "source": [
        "\n",
        "# for col in col_list:\n",
        "#   print(df_test[col].value_counts())\n",
        "#   print(\"\\n\")"
      ],
      "metadata": {
        "id": "HFmYCYs3B98M"
      },
      "execution_count": null,
      "outputs": []
    },
    {
      "cell_type": "code",
      "source": [
        "\n",
        "#dropping heriditary column because every row have same value\n",
        "df1_test = df_test.drop(['Any heriditary condition?','ID1','ID2','Mental health management'], axis=1)\n",
        "df1_test.head(1)"
      ],
      "metadata": {
        "id": "4OdsUEpRB98M",
        "outputId": "1bea1002-212d-4a63-cc09-561665f85b34",
        "colab": {
          "base_uri": "https://localhost:8080/"
        }
      },
      "execution_count": null,
      "outputs": [
        {
          "output_type": "execute_result",
          "data": {
            "text/plain": [
              "   Specific ailments  Age        BMI Smoker? Living in?  Follow Diet  \\\n",
              "0                  2   38  18.879331     YES      URBAN          0.0   \n",
              "\n",
              "   Physical activity  Regular sleeping hours  Alcohol consumption  \\\n",
              "0                0.0                     0.0                  0.0   \n",
              "\n",
              "   Social interaction  ...  DX2  DX3  DX4  DX5  DX6  1.0  2.0  3.0  4.0  5.0  \n",
              "0                 0.0  ...    0    0    0    0    1    1    0    0    0    0  \n",
              "\n",
              "[1 rows x 23 columns]"
            ],
            "text/html": [
              "\n",
              "\n",
              "  <div id=\"df-10f853a0-92fd-4767-a86a-fde3207d862b\">\n",
              "    <div class=\"colab-df-container\">\n",
              "      <div>\n",
              "<style scoped>\n",
              "    .dataframe tbody tr th:only-of-type {\n",
              "        vertical-align: middle;\n",
              "    }\n",
              "\n",
              "    .dataframe tbody tr th {\n",
              "        vertical-align: top;\n",
              "    }\n",
              "\n",
              "    .dataframe thead th {\n",
              "        text-align: right;\n",
              "    }\n",
              "</style>\n",
              "<table border=\"1\" class=\"dataframe\">\n",
              "  <thead>\n",
              "    <tr style=\"text-align: right;\">\n",
              "      <th></th>\n",
              "      <th>Specific ailments</th>\n",
              "      <th>Age</th>\n",
              "      <th>BMI</th>\n",
              "      <th>Smoker?</th>\n",
              "      <th>Living in?</th>\n",
              "      <th>Follow Diet</th>\n",
              "      <th>Physical activity</th>\n",
              "      <th>Regular sleeping hours</th>\n",
              "      <th>Alcohol consumption</th>\n",
              "      <th>Social interaction</th>\n",
              "      <th>...</th>\n",
              "      <th>DX2</th>\n",
              "      <th>DX3</th>\n",
              "      <th>DX4</th>\n",
              "      <th>DX5</th>\n",
              "      <th>DX6</th>\n",
              "      <th>1.0</th>\n",
              "      <th>2.0</th>\n",
              "      <th>3.0</th>\n",
              "      <th>4.0</th>\n",
              "      <th>5.0</th>\n",
              "    </tr>\n",
              "  </thead>\n",
              "  <tbody>\n",
              "    <tr>\n",
              "      <th>0</th>\n",
              "      <td>2</td>\n",
              "      <td>38</td>\n",
              "      <td>18.879331</td>\n",
              "      <td>YES</td>\n",
              "      <td>URBAN</td>\n",
              "      <td>0.0</td>\n",
              "      <td>0.0</td>\n",
              "      <td>0.0</td>\n",
              "      <td>0.0</td>\n",
              "      <td>0.0</td>\n",
              "      <td>...</td>\n",
              "      <td>0</td>\n",
              "      <td>0</td>\n",
              "      <td>0</td>\n",
              "      <td>0</td>\n",
              "      <td>1</td>\n",
              "      <td>1</td>\n",
              "      <td>0</td>\n",
              "      <td>0</td>\n",
              "      <td>0</td>\n",
              "      <td>0</td>\n",
              "    </tr>\n",
              "  </tbody>\n",
              "</table>\n",
              "<p>1 rows × 23 columns</p>\n",
              "</div>\n",
              "      <button class=\"colab-df-convert\" onclick=\"convertToInteractive('df-10f853a0-92fd-4767-a86a-fde3207d862b')\"\n",
              "              title=\"Convert this dataframe to an interactive table.\"\n",
              "              style=\"display:none;\">\n",
              "\n",
              "  <svg xmlns=\"http://www.w3.org/2000/svg\" height=\"24px\"viewBox=\"0 0 24 24\"\n",
              "       width=\"24px\">\n",
              "    <path d=\"M0 0h24v24H0V0z\" fill=\"none\"/>\n",
              "    <path d=\"M18.56 5.44l.94 2.06.94-2.06 2.06-.94-2.06-.94-.94-2.06-.94 2.06-2.06.94zm-11 1L8.5 8.5l.94-2.06 2.06-.94-2.06-.94L8.5 2.5l-.94 2.06-2.06.94zm10 10l.94 2.06.94-2.06 2.06-.94-2.06-.94-.94-2.06-.94 2.06-2.06.94z\"/><path d=\"M17.41 7.96l-1.37-1.37c-.4-.4-.92-.59-1.43-.59-.52 0-1.04.2-1.43.59L10.3 9.45l-7.72 7.72c-.78.78-.78 2.05 0 2.83L4 21.41c.39.39.9.59 1.41.59.51 0 1.02-.2 1.41-.59l7.78-7.78 2.81-2.81c.8-.78.8-2.07 0-2.86zM5.41 20L4 18.59l7.72-7.72 1.47 1.35L5.41 20z\"/>\n",
              "  </svg>\n",
              "      </button>\n",
              "\n",
              "\n",
              "\n",
              "    <div id=\"df-acc878e5-1306-47e8-8f4a-e71013603e52\">\n",
              "      <button class=\"colab-df-quickchart\" onclick=\"quickchart('df-acc878e5-1306-47e8-8f4a-e71013603e52')\"\n",
              "              title=\"Suggest charts.\"\n",
              "              style=\"display:none;\">\n",
              "\n",
              "<svg xmlns=\"http://www.w3.org/2000/svg\" height=\"24px\"viewBox=\"0 0 24 24\"\n",
              "     width=\"24px\">\n",
              "    <g>\n",
              "        <path d=\"M19 3H5c-1.1 0-2 .9-2 2v14c0 1.1.9 2 2 2h14c1.1 0 2-.9 2-2V5c0-1.1-.9-2-2-2zM9 17H7v-7h2v7zm4 0h-2V7h2v10zm4 0h-2v-4h2v4z\"/>\n",
              "    </g>\n",
              "</svg>\n",
              "      </button>\n",
              "    </div>\n",
              "\n",
              "<style>\n",
              "  .colab-df-quickchart {\n",
              "    background-color: #E8F0FE;\n",
              "    border: none;\n",
              "    border-radius: 50%;\n",
              "    cursor: pointer;\n",
              "    display: none;\n",
              "    fill: #1967D2;\n",
              "    height: 32px;\n",
              "    padding: 0 0 0 0;\n",
              "    width: 32px;\n",
              "  }\n",
              "\n",
              "  .colab-df-quickchart:hover {\n",
              "    background-color: #E2EBFA;\n",
              "    box-shadow: 0px 1px 2px rgba(60, 64, 67, 0.3), 0px 1px 3px 1px rgba(60, 64, 67, 0.15);\n",
              "    fill: #174EA6;\n",
              "  }\n",
              "\n",
              "  [theme=dark] .colab-df-quickchart {\n",
              "    background-color: #3B4455;\n",
              "    fill: #D2E3FC;\n",
              "  }\n",
              "\n",
              "  [theme=dark] .colab-df-quickchart:hover {\n",
              "    background-color: #434B5C;\n",
              "    box-shadow: 0px 1px 3px 1px rgba(0, 0, 0, 0.15);\n",
              "    filter: drop-shadow(0px 1px 2px rgba(0, 0, 0, 0.3));\n",
              "    fill: #FFFFFF;\n",
              "  }\n",
              "</style>\n",
              "\n",
              "    <script>\n",
              "      async function quickchart(key) {\n",
              "        const containerElement = document.querySelector('#' + key);\n",
              "        const charts = await google.colab.kernel.invokeFunction(\n",
              "            'suggestCharts', [key], {});\n",
              "      }\n",
              "    </script>\n",
              "\n",
              "      <script>\n",
              "\n",
              "function displayQuickchartButton(domScope) {\n",
              "  let quickchartButtonEl =\n",
              "    domScope.querySelector('#df-acc878e5-1306-47e8-8f4a-e71013603e52 button.colab-df-quickchart');\n",
              "  quickchartButtonEl.style.display =\n",
              "    google.colab.kernel.accessAllowed ? 'block' : 'none';\n",
              "}\n",
              "\n",
              "        displayQuickchartButton(document);\n",
              "      </script>\n",
              "      <style>\n",
              "    .colab-df-container {\n",
              "      display:flex;\n",
              "      flex-wrap:wrap;\n",
              "      gap: 12px;\n",
              "    }\n",
              "\n",
              "    .colab-df-convert {\n",
              "      background-color: #E8F0FE;\n",
              "      border: none;\n",
              "      border-radius: 50%;\n",
              "      cursor: pointer;\n",
              "      display: none;\n",
              "      fill: #1967D2;\n",
              "      height: 32px;\n",
              "      padding: 0 0 0 0;\n",
              "      width: 32px;\n",
              "    }\n",
              "\n",
              "    .colab-df-convert:hover {\n",
              "      background-color: #E2EBFA;\n",
              "      box-shadow: 0px 1px 2px rgba(60, 64, 67, 0.3), 0px 1px 3px 1px rgba(60, 64, 67, 0.15);\n",
              "      fill: #174EA6;\n",
              "    }\n",
              "\n",
              "    [theme=dark] .colab-df-convert {\n",
              "      background-color: #3B4455;\n",
              "      fill: #D2E3FC;\n",
              "    }\n",
              "\n",
              "    [theme=dark] .colab-df-convert:hover {\n",
              "      background-color: #434B5C;\n",
              "      box-shadow: 0px 1px 3px 1px rgba(0, 0, 0, 0.15);\n",
              "      filter: drop-shadow(0px 1px 2px rgba(0, 0, 0, 0.3));\n",
              "      fill: #FFFFFF;\n",
              "    }\n",
              "  </style>\n",
              "\n",
              "      <script>\n",
              "        const buttonEl =\n",
              "          document.querySelector('#df-10f853a0-92fd-4767-a86a-fde3207d862b button.colab-df-convert');\n",
              "        buttonEl.style.display =\n",
              "          google.colab.kernel.accessAllowed ? 'block' : 'none';\n",
              "\n",
              "        async function convertToInteractive(key) {\n",
              "          const element = document.querySelector('#df-10f853a0-92fd-4767-a86a-fde3207d862b');\n",
              "          const dataTable =\n",
              "            await google.colab.kernel.invokeFunction('convertToInteractive',\n",
              "                                                     [key], {});\n",
              "          if (!dataTable) return;\n",
              "\n",
              "          const docLinkHtml = 'Like what you see? Visit the ' +\n",
              "            '<a target=\"_blank\" href=https://colab.research.google.com/notebooks/data_table.ipynb>data table notebook</a>'\n",
              "            + ' to learn more about interactive tables.';\n",
              "          element.innerHTML = '';\n",
              "          dataTable['output_type'] = 'display_data';\n",
              "          await google.colab.output.renderOutput(dataTable, element);\n",
              "          const docLink = document.createElement('div');\n",
              "          docLink.innerHTML = docLinkHtml;\n",
              "          element.appendChild(docLink);\n",
              "        }\n",
              "      </script>\n",
              "    </div>\n",
              "  </div>\n"
            ]
          },
          "metadata": {},
          "execution_count": 48
        }
      ]
    },
    {
      "cell_type": "code",
      "source": [
        "\n",
        "# labeling_list = ['Living in?']\n",
        "# for col in labeling_list:\n",
        "#   # df1[col] = le.fit_transform(df1[col])\n",
        "#   df_encoded = pd.get_dummies(df1_test[col], prefix=col )\n",
        "#   df1_test = pd.concat([df1_test, df_encoded], axis=1)\n",
        "#   df1_test = df1_test.drop(col,axis=1)\n",
        "\n",
        "df1_test['Living in?'] = le.fit_transform(df1_test['Living in?'])"
      ],
      "metadata": {
        "id": "lhvn_3cfB98M"
      },
      "execution_count": null,
      "outputs": []
    },
    {
      "cell_type": "code",
      "source": [
        "\n",
        "df1_test['Smoker?'] = df1_test['Smoker?'].replace('Cannot say', 'NO')"
      ],
      "metadata": {
        "id": "ZsWYv1IKsLk4"
      },
      "execution_count": null,
      "outputs": []
    },
    {
      "cell_type": "code",
      "source": [
        "df1_test['Smoker?'].value_counts()"
      ],
      "metadata": {
        "colab": {
          "base_uri": "https://localhost:8080/"
        },
        "id": "VM_KsgAovFb8",
        "outputId": "4bdf7c6e-b7ab-4918-958e-5a1672f94f9d"
      },
      "execution_count": null,
      "outputs": [
        {
          "output_type": "execute_result",
          "data": {
            "text/plain": [
              "NO     3644\n",
              "YES    2836\n",
              "Name: Smoker?, dtype: int64"
            ]
          },
          "metadata": {},
          "execution_count": 51
        }
      ]
    },
    {
      "cell_type": "code",
      "source": [
        "\n",
        "#df1_test[df1_test['Smoker?'] == 'Cannot say']\n",
        "df1_test['Smoker?'] = le.fit_transform(df1_test['Smoker?'])"
      ],
      "metadata": {
        "id": "k1_EJHaYB98M"
      },
      "execution_count": null,
      "outputs": []
    },
    {
      "cell_type": "code",
      "source": [
        "col_no = 11\n",
        "df1_test = df1_test.drop(df1_test.columns[col_no], axis=1)\n",
        "df1_test.head(2)"
      ],
      "metadata": {
        "id": "CPvIRDzkB98M",
        "outputId": "a7df560e-2998-403a-9dbb-8031a1605123",
        "colab": {
          "base_uri": "https://localhost:8080/"
        }
      },
      "execution_count": null,
      "outputs": [
        {
          "output_type": "execute_result",
          "data": {
            "text/plain": [
              "   Specific ailments  Age        BMI  Smoker?  Living in?  Follow Diet  \\\n",
              "0                  2   38  18.879331        1           1          0.0   \n",
              "1                  5   46  21.231991        0           1          1.0   \n",
              "\n",
              "   Physical activity  Regular sleeping hours  Alcohol consumption  \\\n",
              "0                0.0                     0.0                  0.0   \n",
              "1                0.0                     0.0                  0.0   \n",
              "\n",
              "   Social interaction  ...  DX2  DX3  DX4  DX5  DX6  1.0  2.0  3.0  4.0  5.0  \n",
              "0                 0.0  ...    0    0    0    0    1    1    0    0    0    0  \n",
              "1                 0.0  ...    0    0    0    0    0    1    0    0    0    0  \n",
              "\n",
              "[2 rows x 22 columns]"
            ],
            "text/html": [
              "\n",
              "\n",
              "  <div id=\"df-ea71e870-348f-47f9-a8b4-2c8e764158fb\">\n",
              "    <div class=\"colab-df-container\">\n",
              "      <div>\n",
              "<style scoped>\n",
              "    .dataframe tbody tr th:only-of-type {\n",
              "        vertical-align: middle;\n",
              "    }\n",
              "\n",
              "    .dataframe tbody tr th {\n",
              "        vertical-align: top;\n",
              "    }\n",
              "\n",
              "    .dataframe thead th {\n",
              "        text-align: right;\n",
              "    }\n",
              "</style>\n",
              "<table border=\"1\" class=\"dataframe\">\n",
              "  <thead>\n",
              "    <tr style=\"text-align: right;\">\n",
              "      <th></th>\n",
              "      <th>Specific ailments</th>\n",
              "      <th>Age</th>\n",
              "      <th>BMI</th>\n",
              "      <th>Smoker?</th>\n",
              "      <th>Living in?</th>\n",
              "      <th>Follow Diet</th>\n",
              "      <th>Physical activity</th>\n",
              "      <th>Regular sleeping hours</th>\n",
              "      <th>Alcohol consumption</th>\n",
              "      <th>Social interaction</th>\n",
              "      <th>...</th>\n",
              "      <th>DX2</th>\n",
              "      <th>DX3</th>\n",
              "      <th>DX4</th>\n",
              "      <th>DX5</th>\n",
              "      <th>DX6</th>\n",
              "      <th>1.0</th>\n",
              "      <th>2.0</th>\n",
              "      <th>3.0</th>\n",
              "      <th>4.0</th>\n",
              "      <th>5.0</th>\n",
              "    </tr>\n",
              "  </thead>\n",
              "  <tbody>\n",
              "    <tr>\n",
              "      <th>0</th>\n",
              "      <td>2</td>\n",
              "      <td>38</td>\n",
              "      <td>18.879331</td>\n",
              "      <td>1</td>\n",
              "      <td>1</td>\n",
              "      <td>0.0</td>\n",
              "      <td>0.0</td>\n",
              "      <td>0.0</td>\n",
              "      <td>0.0</td>\n",
              "      <td>0.0</td>\n",
              "      <td>...</td>\n",
              "      <td>0</td>\n",
              "      <td>0</td>\n",
              "      <td>0</td>\n",
              "      <td>0</td>\n",
              "      <td>1</td>\n",
              "      <td>1</td>\n",
              "      <td>0</td>\n",
              "      <td>0</td>\n",
              "      <td>0</td>\n",
              "      <td>0</td>\n",
              "    </tr>\n",
              "    <tr>\n",
              "      <th>1</th>\n",
              "      <td>5</td>\n",
              "      <td>46</td>\n",
              "      <td>21.231991</td>\n",
              "      <td>0</td>\n",
              "      <td>1</td>\n",
              "      <td>1.0</td>\n",
              "      <td>0.0</td>\n",
              "      <td>0.0</td>\n",
              "      <td>0.0</td>\n",
              "      <td>0.0</td>\n",
              "      <td>...</td>\n",
              "      <td>0</td>\n",
              "      <td>0</td>\n",
              "      <td>0</td>\n",
              "      <td>0</td>\n",
              "      <td>0</td>\n",
              "      <td>1</td>\n",
              "      <td>0</td>\n",
              "      <td>0</td>\n",
              "      <td>0</td>\n",
              "      <td>0</td>\n",
              "    </tr>\n",
              "  </tbody>\n",
              "</table>\n",
              "<p>2 rows × 22 columns</p>\n",
              "</div>\n",
              "      <button class=\"colab-df-convert\" onclick=\"convertToInteractive('df-ea71e870-348f-47f9-a8b4-2c8e764158fb')\"\n",
              "              title=\"Convert this dataframe to an interactive table.\"\n",
              "              style=\"display:none;\">\n",
              "\n",
              "  <svg xmlns=\"http://www.w3.org/2000/svg\" height=\"24px\"viewBox=\"0 0 24 24\"\n",
              "       width=\"24px\">\n",
              "    <path d=\"M0 0h24v24H0V0z\" fill=\"none\"/>\n",
              "    <path d=\"M18.56 5.44l.94 2.06.94-2.06 2.06-.94-2.06-.94-.94-2.06-.94 2.06-2.06.94zm-11 1L8.5 8.5l.94-2.06 2.06-.94-2.06-.94L8.5 2.5l-.94 2.06-2.06.94zm10 10l.94 2.06.94-2.06 2.06-.94-2.06-.94-.94-2.06-.94 2.06-2.06.94z\"/><path d=\"M17.41 7.96l-1.37-1.37c-.4-.4-.92-.59-1.43-.59-.52 0-1.04.2-1.43.59L10.3 9.45l-7.72 7.72c-.78.78-.78 2.05 0 2.83L4 21.41c.39.39.9.59 1.41.59.51 0 1.02-.2 1.41-.59l7.78-7.78 2.81-2.81c.8-.78.8-2.07 0-2.86zM5.41 20L4 18.59l7.72-7.72 1.47 1.35L5.41 20z\"/>\n",
              "  </svg>\n",
              "      </button>\n",
              "\n",
              "\n",
              "\n",
              "    <div id=\"df-6b971ee5-b571-47be-a296-08875ab38fea\">\n",
              "      <button class=\"colab-df-quickchart\" onclick=\"quickchart('df-6b971ee5-b571-47be-a296-08875ab38fea')\"\n",
              "              title=\"Suggest charts.\"\n",
              "              style=\"display:none;\">\n",
              "\n",
              "<svg xmlns=\"http://www.w3.org/2000/svg\" height=\"24px\"viewBox=\"0 0 24 24\"\n",
              "     width=\"24px\">\n",
              "    <g>\n",
              "        <path d=\"M19 3H5c-1.1 0-2 .9-2 2v14c0 1.1.9 2 2 2h14c1.1 0 2-.9 2-2V5c0-1.1-.9-2-2-2zM9 17H7v-7h2v7zm4 0h-2V7h2v10zm4 0h-2v-4h2v4z\"/>\n",
              "    </g>\n",
              "</svg>\n",
              "      </button>\n",
              "    </div>\n",
              "\n",
              "<style>\n",
              "  .colab-df-quickchart {\n",
              "    background-color: #E8F0FE;\n",
              "    border: none;\n",
              "    border-radius: 50%;\n",
              "    cursor: pointer;\n",
              "    display: none;\n",
              "    fill: #1967D2;\n",
              "    height: 32px;\n",
              "    padding: 0 0 0 0;\n",
              "    width: 32px;\n",
              "  }\n",
              "\n",
              "  .colab-df-quickchart:hover {\n",
              "    background-color: #E2EBFA;\n",
              "    box-shadow: 0px 1px 2px rgba(60, 64, 67, 0.3), 0px 1px 3px 1px rgba(60, 64, 67, 0.15);\n",
              "    fill: #174EA6;\n",
              "  }\n",
              "\n",
              "  [theme=dark] .colab-df-quickchart {\n",
              "    background-color: #3B4455;\n",
              "    fill: #D2E3FC;\n",
              "  }\n",
              "\n",
              "  [theme=dark] .colab-df-quickchart:hover {\n",
              "    background-color: #434B5C;\n",
              "    box-shadow: 0px 1px 3px 1px rgba(0, 0, 0, 0.15);\n",
              "    filter: drop-shadow(0px 1px 2px rgba(0, 0, 0, 0.3));\n",
              "    fill: #FFFFFF;\n",
              "  }\n",
              "</style>\n",
              "\n",
              "    <script>\n",
              "      async function quickchart(key) {\n",
              "        const containerElement = document.querySelector('#' + key);\n",
              "        const charts = await google.colab.kernel.invokeFunction(\n",
              "            'suggestCharts', [key], {});\n",
              "      }\n",
              "    </script>\n",
              "\n",
              "      <script>\n",
              "\n",
              "function displayQuickchartButton(domScope) {\n",
              "  let quickchartButtonEl =\n",
              "    domScope.querySelector('#df-6b971ee5-b571-47be-a296-08875ab38fea button.colab-df-quickchart');\n",
              "  quickchartButtonEl.style.display =\n",
              "    google.colab.kernel.accessAllowed ? 'block' : 'none';\n",
              "}\n",
              "\n",
              "        displayQuickchartButton(document);\n",
              "      </script>\n",
              "      <style>\n",
              "    .colab-df-container {\n",
              "      display:flex;\n",
              "      flex-wrap:wrap;\n",
              "      gap: 12px;\n",
              "    }\n",
              "\n",
              "    .colab-df-convert {\n",
              "      background-color: #E8F0FE;\n",
              "      border: none;\n",
              "      border-radius: 50%;\n",
              "      cursor: pointer;\n",
              "      display: none;\n",
              "      fill: #1967D2;\n",
              "      height: 32px;\n",
              "      padding: 0 0 0 0;\n",
              "      width: 32px;\n",
              "    }\n",
              "\n",
              "    .colab-df-convert:hover {\n",
              "      background-color: #E2EBFA;\n",
              "      box-shadow: 0px 1px 2px rgba(60, 64, 67, 0.3), 0px 1px 3px 1px rgba(60, 64, 67, 0.15);\n",
              "      fill: #174EA6;\n",
              "    }\n",
              "\n",
              "    [theme=dark] .colab-df-convert {\n",
              "      background-color: #3B4455;\n",
              "      fill: #D2E3FC;\n",
              "    }\n",
              "\n",
              "    [theme=dark] .colab-df-convert:hover {\n",
              "      background-color: #434B5C;\n",
              "      box-shadow: 0px 1px 3px 1px rgba(0, 0, 0, 0.15);\n",
              "      filter: drop-shadow(0px 1px 2px rgba(0, 0, 0, 0.3));\n",
              "      fill: #FFFFFF;\n",
              "    }\n",
              "  </style>\n",
              "\n",
              "      <script>\n",
              "        const buttonEl =\n",
              "          document.querySelector('#df-ea71e870-348f-47f9-a8b4-2c8e764158fb button.colab-df-convert');\n",
              "        buttonEl.style.display =\n",
              "          google.colab.kernel.accessAllowed ? 'block' : 'none';\n",
              "\n",
              "        async function convertToInteractive(key) {\n",
              "          const element = document.querySelector('#df-ea71e870-348f-47f9-a8b4-2c8e764158fb');\n",
              "          const dataTable =\n",
              "            await google.colab.kernel.invokeFunction('convertToInteractive',\n",
              "                                                     [key], {});\n",
              "          if (!dataTable) return;\n",
              "\n",
              "          const docLinkHtml = 'Like what you see? Visit the ' +\n",
              "            '<a target=\"_blank\" href=https://colab.research.google.com/notebooks/data_table.ipynb>data table notebook</a>'\n",
              "            + ' to learn more about interactive tables.';\n",
              "          element.innerHTML = '';\n",
              "          dataTable['output_type'] = 'display_data';\n",
              "          await google.colab.output.renderOutput(dataTable, element);\n",
              "          const docLink = document.createElement('div');\n",
              "          docLink.innerHTML = docLinkHtml;\n",
              "          element.appendChild(docLink);\n",
              "        }\n",
              "      </script>\n",
              "    </div>\n",
              "  </div>\n"
            ]
          },
          "metadata": {},
          "execution_count": 53
        }
      ]
    },
    {
      "cell_type": "markdown",
      "source": [],
      "metadata": {
        "id": "OsvVWOpQB98M"
      }
    },
    {
      "cell_type": "code",
      "source": [
        "# df1_test['pos_score'] = df1_test['Follow Diet']+ df1_test['Physical activity'] + df1_test['Regular sleeping hours']  + df1_test['Social interaction'] + df1_test['Taking supplements']\n",
        "# df1_test['neg_score'] = - df1_test['Alcohol consumption'] - df1_test['Smoker?']"
      ],
      "metadata": {
        "id": "1fLCBI1b8q_X"
      },
      "execution_count": null,
      "outputs": []
    },
    {
      "cell_type": "code",
      "source": [
        "# #@title\n",
        "# sns.displot(df1_test['Age'])"
      ],
      "metadata": {
        "id": "Pc-IxQm9B98M"
      },
      "execution_count": null,
      "outputs": []
    },
    {
      "cell_type": "code",
      "source": [
        "df2_test = scaler.transform(df1_test)\n",
        "df2_test= pd.DataFrame(df2_test)"
      ],
      "metadata": {
        "id": "bAsAo5NfFmH-"
      },
      "execution_count": null,
      "outputs": []
    },
    {
      "cell_type": "code",
      "source": [
        "# #@title\n",
        "# df2_test.head()"
      ],
      "metadata": {
        "id": "1M79afhMB98N"
      },
      "execution_count": null,
      "outputs": []
    },
    {
      "cell_type": "markdown",
      "source": [
        "#Model Training\n"
      ],
      "metadata": {
        "id": "Fcw68zfV4TZR"
      }
    },
    {
      "cell_type": "code",
      "source": [
        "def print_stats(df_x,df_y, clf):\n",
        "  pred = clf.predict(df_x)\n",
        "  pred = pd.DataFrame({'pred':pred})\n",
        "  print(f\"F1 Score: {f1_score(df_y,pred)}\")\n",
        "  #print(f\"accuracy: {accuracy_score(df_y, pred)}\")\n",
        "  # print(classification_report(df_y,pred))\n",
        "  print(pred.value_counts())"
      ],
      "metadata": {
        "id": "C-eaJbvQ8x3s"
      },
      "execution_count": null,
      "outputs": []
    },
    {
      "cell_type": "code",
      "source": [
        "# y_train.value_counts()"
      ],
      "metadata": {
        "id": "KyMZiWpfE8Mb"
      },
      "execution_count": null,
      "outputs": []
    },
    {
      "cell_type": "code",
      "source": [
        "# y_test.value_counts()"
      ],
      "metadata": {
        "id": "1bnuKSuXFA8h"
      },
      "execution_count": null,
      "outputs": []
    },
    {
      "cell_type": "code",
      "source": [
        "class_weights = {0 :2, 1:1}\n",
        "# feature_names = df.columns.tolist()\n"
      ],
      "metadata": {
        "id": "p78nXx1zAGvA"
      },
      "execution_count": null,
      "outputs": []
    },
    {
      "cell_type": "markdown",
      "source": [
        "##LogisticRegression\n",
        "\n",
        "---\n",
        "\n",
        "\n",
        "\n",
        "---\n",
        "\n"
      ],
      "metadata": {
        "id": "faRacRij59ld"
      }
    },
    {
      "cell_type": "code",
      "source": [
        "# clf = LogisticRegression()\n",
        "# clf.fit(x_train, y_train)\n",
        "\n",
        "# print_stats(x_train,y_train, clf)\n",
        "# print(\"\\n----------------\\n\")\n",
        "# print_stats(x_test, y_test, clf)"
      ],
      "metadata": {
        "id": "kQ-MKgbC4EvB"
      },
      "execution_count": null,
      "outputs": []
    },
    {
      "cell_type": "code",
      "source": [
        "# clf2 = LogisticRegression()\n",
        "# clf2.fit(x_train_res, y_train_res)\n",
        "\n",
        "# print_stats(x_train_res,y_train_res, clf2)\n",
        "# print(\"\\n----------------\\n\")\n",
        "# print_stats(x_test_res, y_test_res, clf2)"
      ],
      "metadata": {
        "id": "yTwrbdzFpopf"
      },
      "execution_count": null,
      "outputs": []
    },
    {
      "cell_type": "code",
      "source": [
        "# pred = clf.predict(df1_test)\n",
        "# pred_LR = pd.DataFrame({'predictions':pred})\n",
        "# pred_LR.value_counts()"
      ],
      "metadata": {
        "id": "SRrxuMMRCOeh"
      },
      "execution_count": null,
      "outputs": []
    },
    {
      "cell_type": "code",
      "source": [
        "# file_path = 'pred_LR.csv'\n",
        "# pred_LR.to_csv(file_path,index = False)\n",
        "# from IPython.display import FileLink\n",
        "# FileLink(file_path)"
      ],
      "metadata": {
        "id": "mLf9WMJZJndA"
      },
      "execution_count": null,
      "outputs": []
    },
    {
      "cell_type": "markdown",
      "source": [
        "## Random Forest"
      ],
      "metadata": {
        "id": "FYY_fS_KDslC"
      }
    },
    {
      "cell_type": "code",
      "source": [
        "# clf = RandomForestClassifier(max_depth = 15,n_estimators =100,class_weight= class_weights, random_state =0)\n",
        "# clf.fit(x_train, y_train)\n",
        "\n",
        "# print_stats(x_train,y_train, clf)\n",
        "# print(\"\\n-----------------------\\n\")\n",
        "# print_stats(x_test,y_test, clf)\n"
      ],
      "metadata": {
        "id": "LGhjZTwjD6NG"
      },
      "execution_count": null,
      "outputs": []
    },
    {
      "cell_type": "code",
      "source": [
        "# clf2 = RandomForestClassifier(n_estimators =500, random_state =0)\n",
        "# clf2.fit(x_train_res, y_train_res)\n",
        "\n",
        "# print_stats(x_train_res,y_train_res, clf2)\n",
        "# print(\"\\n-----------------------\\n\")\n",
        "# print_stats(x_test_res,y_test_res, clf2)\n"
      ],
      "metadata": {
        "id": "w-hZO3HooL2M"
      },
      "execution_count": null,
      "outputs": []
    },
    {
      "cell_type": "code",
      "source": [
        "# pred = clf.predict(df2_test)\n",
        "# pred_RF = pd.DataFrame({'predictions':pred})\n",
        "# pred_RF.value_counts()"
      ],
      "metadata": {
        "id": "hoz6mKa3IjJs"
      },
      "execution_count": null,
      "outputs": []
    },
    {
      "cell_type": "code",
      "source": [
        "# file_path = 'pred_RF.csv'\n",
        "# pred_RF.to_csv(file_path,index = False)\n",
        "# from IPython.display import FileLink\n",
        "# FileLink(file_path)"
      ],
      "metadata": {
        "id": "mAG9Xt-fJ64y"
      },
      "execution_count": null,
      "outputs": []
    },
    {
      "cell_type": "markdown",
      "source": [
        "##Gradient Boosting"
      ],
      "metadata": {
        "id": "oqRd9H9mh-dx"
      }
    },
    {
      "cell_type": "code",
      "source": [
        "# clf = GradientBoostingClassifier()\n",
        "# clf.fit(x_train,y_train)\n",
        "\n",
        "# print_stats(x_train, y_train, clf)\n",
        "# print('\\n----------------\\n')\n",
        "# print_stats(x_test, y_test,clf)"
      ],
      "metadata": {
        "id": "eylNvjXvFTnI"
      },
      "execution_count": null,
      "outputs": []
    },
    {
      "cell_type": "code",
      "source": [
        "# clf2 = GradientBoostingClassifier()\n",
        "# clf2.fit(x_train_res, y_train_res)\n",
        "\n",
        "# print_stats(x_train_res,y_train_res, clf2)\n",
        "# print(\"\\n----------------\\n\")\n",
        "# print_stats(x_test_res, y_test_res, clf2)"
      ],
      "metadata": {
        "id": "lUWT_6FnqFVK"
      },
      "execution_count": null,
      "outputs": []
    },
    {
      "cell_type": "code",
      "source": [
        "# pred = clf.predict(df1_test)\n",
        "# pred_gb = pd.DataFrame({'predictions':pred})\n",
        "# pred_gb.value_counts()"
      ],
      "metadata": {
        "id": "2WW0xo5MIrxa"
      },
      "execution_count": null,
      "outputs": []
    },
    {
      "cell_type": "code",
      "source": [
        "# file_path = 'pred_gb.csv'\n",
        "# pred_gb.to_csv(file_path,index = False)\n",
        "# from IPython.display import FileLink\n",
        "# FileLink(file_path)"
      ],
      "metadata": {
        "id": "rCcaYTMWKKpH"
      },
      "execution_count": null,
      "outputs": []
    },
    {
      "cell_type": "markdown",
      "source": [
        "##XGB Classifier"
      ],
      "metadata": {
        "id": "ZadrjrNajS6s"
      }
    },
    {
      "cell_type": "code",
      "source": [
        "# clf = xgboost.XGBClassifier()\n",
        "# clf.fit(x_train, y_train)\n",
        "\n",
        "# print_stats(x_train, y_train, clf)\n",
        "# print('\\n----------------\\n')\n",
        "# print_stats(x_test, y_test, clf)"
      ],
      "metadata": {
        "id": "Q3h39mpdirVo"
      },
      "execution_count": null,
      "outputs": []
    },
    {
      "cell_type": "code",
      "source": [
        "# clf2 = xgboost.XGBClassifier()\n",
        "# clf2.fit(x_train_res, y_train_res)\n",
        "\n",
        "# print_stats(x_train_res,y_train_res, clf2)\n",
        "# print(\"\\n----------------\\n\")\n",
        "# print_stats(x_test_res, y_test_res, clf2)"
      ],
      "metadata": {
        "id": "adP7eHLvqK90"
      },
      "execution_count": null,
      "outputs": []
    },
    {
      "cell_type": "code",
      "source": [
        "# #Using Hyperparameter tuning\n",
        "\n",
        "# param_dist = {\n",
        "#     'learning_rate': uniform(0.01, 0.1),\n",
        "#     'max_depth': randint(3, 15),\n",
        "#     'n_estimators': randint(10, 300),\n",
        "#     'subsample': uniform(0.6, 0.4),\n",
        "#     'colsample_bytree': uniform(0.6, 0.4),\n",
        "# }\n",
        "\n",
        "# clf = xgboost.XGBClassifier()\n",
        "# random_search = RandomizedSearchCV(estimator=clf, param_distributions=param_dist, scoring='accuracy', cv=5)\n",
        "# random_search.fit(x_train, y_train)\n",
        "\n",
        "# best_params = random_search.best_params_\n",
        "# best_model = random_search.best_estimator_\n",
        "\n",
        "# print_stats(x_train, y_train, best_model)\n",
        "# print('\\n----------------\\n')\n",
        "# print_stats(x_test, y_test, best_model)"
      ],
      "metadata": {
        "id": "cMXBhAaCCQtC"
      },
      "execution_count": null,
      "outputs": []
    },
    {
      "cell_type": "code",
      "source": [
        "# #using gridsearchcv and HP tuning\n",
        "# param_grid = {\n",
        "#     'learning_rate': [0.1, 0.01, 0.001],\n",
        "#     'max_depth': [3, 5, 7],\n",
        "#     'n_estimators': [100, 200, 300],\n",
        "#     'subsample': [0.8, 1.0],\n",
        "#     'colsample_bytree': [0.8, 1.0],\n",
        "# }\n",
        "# clf = xgboost.XGBClassifier()\n",
        "# grid_search = GridSearchCV(estimator=clf, param_grid=param_grid, scoring='accuracy', cv=5)\n",
        "# grid_search.fit(x_train, y_train)\n",
        "\n",
        "# best_params = grid_search.best_params_\n",
        "# best_model = grid_search.best_estimator_\n",
        "\n",
        "# print_stats(x_train, y_train, best_model)\n",
        "# print('\\n----------------\\n')\n",
        "# print_stats(x_test, y_test, best_model)\n",
        "# # not sub"
      ],
      "metadata": {
        "id": "Zs73M0uQUqRv"
      },
      "execution_count": null,
      "outputs": []
    },
    {
      "cell_type": "code",
      "source": [
        "# pred = best_model.predict(df2_test)\n",
        "# pred_xgb = pd.DataFrame({'predictions':pred})\n",
        "# pred_xgb.value_counts()"
      ],
      "metadata": {
        "id": "zgj37u9JjiG3"
      },
      "execution_count": null,
      "outputs": []
    },
    {
      "cell_type": "code",
      "source": [
        "# file_path = 'pred_xgb_final.csv'\n",
        "# pred_xgb.to_csv(file_path,index = False)\n",
        "# from IPython.display import FileLink\n",
        "# FileLink(file_path)\n",
        "# # not sub"
      ],
      "metadata": {
        "id": "iNmsCFL_KSX5"
      },
      "execution_count": null,
      "outputs": []
    },
    {
      "cell_type": "markdown",
      "source": [
        "##SVM"
      ],
      "metadata": {
        "id": "YvdMg-4cI6sR"
      }
    },
    {
      "cell_type": "code",
      "source": [
        "# clf = svm.SVC(kernel = 'rbf', C=50, gamma = 'auto')\n",
        "# clf.fit(x_train, y_train)\n",
        "\n",
        "# print_stats(x_train, y_train, clf)\n",
        "# print(\"\\n------------------\\n\")\n",
        "# print_stats(x_test, y_test, clf)"
      ],
      "metadata": {
        "id": "Kyf2lEFPIxeN"
      },
      "execution_count": null,
      "outputs": []
    },
    {
      "cell_type": "code",
      "source": [
        "# clf2 = svm.SVC(kernel = 'rbf', C=50, gamma = 'auto',class_weight =class_weights)\n",
        "# clf2.fit(x_train_res, y_train_res)\n",
        "\n",
        "# print_stats(x_train_res,y_train_res, clf2)\n",
        "# print(\"\\n----------------\\n\")\n",
        "# print_stats(x_test_res, y_test_res, clf2)"
      ],
      "metadata": {
        "id": "N2t1iG-LqQeq"
      },
      "execution_count": null,
      "outputs": []
    },
    {
      "cell_type": "code",
      "source": [
        "# pred = clf.predict(df1_test)\n",
        "# pred_svm = pd.DataFrame({'predictions':pred})\n",
        "# pred_svm.value_counts()"
      ],
      "metadata": {
        "id": "fKTknhCOJIze"
      },
      "execution_count": null,
      "outputs": []
    },
    {
      "cell_type": "code",
      "source": [
        "# file_path = 'pred_svm.csv'\n",
        "# pred_svm.to_csv(file_path,index = False)\n",
        "# from IPython.display import FileLink\n",
        "# FileLink(file_path)"
      ],
      "metadata": {
        "id": "x4ZPQkahJc1x"
      },
      "execution_count": null,
      "outputs": []
    },
    {
      "cell_type": "markdown",
      "source": [
        "##ANN"
      ],
      "metadata": {
        "id": "sGLnLuNYq16R"
      }
    },
    {
      "cell_type": "code",
      "source": [
        "pip install -U keras-tuner"
      ],
      "metadata": {
        "colab": {
          "base_uri": "https://localhost:8080/"
        },
        "id": "F9aXj9mYX4my",
        "outputId": "8cad2782-bcc4-4362-d030-dae1f2f040a4"
      },
      "execution_count": null,
      "outputs": [
        {
          "output_type": "stream",
          "name": "stdout",
          "text": [
            "Requirement already satisfied: keras-tuner in /usr/local/lib/python3.10/dist-packages (1.3.5)\n",
            "Requirement already satisfied: packaging in /usr/local/lib/python3.10/dist-packages (from keras-tuner) (23.1)\n",
            "Requirement already satisfied: requests in /usr/local/lib/python3.10/dist-packages (from keras-tuner) (2.27.1)\n",
            "Requirement already satisfied: kt-legacy in /usr/local/lib/python3.10/dist-packages (from keras-tuner) (1.0.5)\n",
            "Requirement already satisfied: urllib3<1.27,>=1.21.1 in /usr/local/lib/python3.10/dist-packages (from requests->keras-tuner) (1.26.16)\n",
            "Requirement already satisfied: certifi>=2017.4.17 in /usr/local/lib/python3.10/dist-packages (from requests->keras-tuner) (2023.5.7)\n",
            "Requirement already satisfied: charset-normalizer~=2.0.0 in /usr/local/lib/python3.10/dist-packages (from requests->keras-tuner) (2.0.12)\n",
            "Requirement already satisfied: idna<4,>=2.5 in /usr/local/lib/python3.10/dist-packages (from requests->keras-tuner) (3.4)\n"
          ]
        }
      ]
    },
    {
      "cell_type": "code",
      "source": [
        "from tensorflow import keras\n",
        "import kerastuner as kt\n",
        "def print_stats(df_x, df_y, model, threshold=0.5):\n",
        "    pred_probs = model.predict(df_x)\n",
        "    pred_labels = np.where(pred_probs > threshold, 1, 0)\n",
        "    pred = pd.DataFrame({'pred': pred_labels.flatten()})\n",
        "    f1 = f1_score(df_y, pred)\n",
        "    print(f\"F1 Score: {f1}\")\n",
        "    print(pred['pred'].value_counts())"
      ],
      "metadata": {
        "id": "CMAZdVMVq3Wu",
        "colab": {
          "base_uri": "https://localhost:8080/"
        },
        "outputId": "9d9c11af-7feb-4f25-c698-6fdefa50fbd7"
      },
      "execution_count": null,
      "outputs": [
        {
          "output_type": "stream",
          "name": "stderr",
          "text": [
            "<ipython-input-85-1a3b2fa0f609>:2: DeprecationWarning: `import kerastuner` is deprecated, please use `import keras_tuner`.\n",
            "  import kerastuner as kt\n"
          ]
        }
      ]
    },
    {
      "cell_type": "code",
      "source": [
        "# #hyperparameter tuning\n",
        "# def build_model(hp):\n",
        "#   input_dim = 22\n",
        "#   model = keras.Sequential([\n",
        "#     keras.layers.Dense(32, activation='relu', input_shape=(input_dim,)),\n",
        "#     keras.layers.Dense(64, activation='relu'),\n",
        "#     keras.layers.Dense(1, activation='sigmoid')\n",
        "#   ])\n",
        "\n",
        "#   optimizer = hp.Choice('optimizer', values = ['adam', 'sgd','rmsprop','adadelta'])\n",
        "#   model.compile(optimizer = optimizer, loss = 'binary_crossentropy', metrics=['accuracy'])\n",
        "\n",
        "#   return model"
      ],
      "metadata": {
        "id": "W8snE9SIYA9u"
      },
      "execution_count": null,
      "outputs": []
    },
    {
      "cell_type": "code",
      "source": [
        "# tuner = kt.RandomSearch(build_model, objective = 'val_accuracy', max_trials =5 )"
      ],
      "metadata": {
        "id": "56rChLfkZaOq"
      },
      "execution_count": null,
      "outputs": []
    },
    {
      "cell_type": "code",
      "source": [
        "# tuner.search(x_train, y_train, epochs =10, validation_data =(x_test, y_test))"
      ],
      "metadata": {
        "id": "sFGVVDPzakuz"
      },
      "execution_count": null,
      "outputs": []
    },
    {
      "cell_type": "code",
      "source": [
        "# tuner.get_best_hyperparameters()[0].values"
      ],
      "metadata": {
        "id": "KrRKHI77cRex"
      },
      "execution_count": null,
      "outputs": []
    },
    {
      "cell_type": "code",
      "source": [
        "# model = tuner.get_best_models(num_models=1)[0]"
      ],
      "metadata": {
        "id": "1F9gmgNOczfH"
      },
      "execution_count": null,
      "outputs": []
    },
    {
      "cell_type": "code",
      "source": [
        "# model.summary()"
      ],
      "metadata": {
        "id": "QACOHhN2SNjy"
      },
      "execution_count": null,
      "outputs": []
    },
    {
      "cell_type": "code",
      "source": [
        "# model.fit(x_train, y_train, batch_size=32, epochs=100, initial_epoch = 11, validation_data = (x_test, y_test))"
      ],
      "metadata": {
        "id": "1lV0eID8SV18"
      },
      "execution_count": null,
      "outputs": []
    },
    {
      "cell_type": "code",
      "source": [
        "def build_model(hp):\n",
        "  model = keras.Sequential()\n",
        "\n",
        "  units = hp.Int('units', min_value=8, max_value=128, step=8)\n",
        "  input_dim = 22\n",
        "  model = keras.Sequential([\n",
        "    keras.layers.Dense(units = units, activation='relu', input_shape=(input_dim,)),\n",
        "    keras.layers.Dense(1, activation='sigmoid')\n",
        "  ])\n",
        "\n",
        "  model.compile(optimizer='adam', loss = 'binary_crossentropy', metrics = ['accuracy'])\n",
        "  return model"
      ],
      "metadata": {
        "id": "XeFknY3oVMXa"
      },
      "execution_count": null,
      "outputs": []
    },
    {
      "cell_type": "code",
      "source": [
        "tuner = kt.RandomSearch(build_model, objective='val_accuracy', max_trials=5 )"
      ],
      "metadata": {
        "id": "K716FMt2WOgZ"
      },
      "execution_count": null,
      "outputs": []
    },
    {
      "cell_type": "code",
      "source": [
        "tuner.search(x_train, y_train,epochs=5, validatoin_data =(x_test, y_test))"
      ],
      "metadata": {
        "id": "xgcGbEfYWzgr"
      },
      "execution_count": null,
      "outputs": []
    },
    {
      "cell_type": "code",
      "source": [
        "tuner.get_best_hyperparameters()[0].values"
      ],
      "metadata": {
        "colab": {
          "base_uri": "https://localhost:8080/"
        },
        "id": "zTnb-Vp_aBzi",
        "outputId": "e314fd90-8268-411e-8a5c-fa658d9808b8"
      },
      "execution_count": null,
      "outputs": [
        {
          "output_type": "execute_result",
          "data": {
            "text/plain": [
              "{'optimizer': 'adam'}"
            ]
          },
          "metadata": {},
          "execution_count": 96
        }
      ]
    },
    {
      "cell_type": "code",
      "source": [
        "# input_dim = 22\n",
        "# model = keras.Sequential([\n",
        "#     keras.layers.Dense(32, activation='relu', input_shape=(input_dim,)),\n",
        "#     keras.layers.Dense(64, activation='relu'),\n",
        "#     keras.layers.Dense(1, activation='sigmoid')\n",
        "# ])\n",
        "# model.compile(optimizer='rmsprop', loss='binary_crossentropy', metrics=['accuracy'])\n",
        "# model.fit(x_train, y_train, epochs=100, batch_size=32)\n",
        "\n",
        "\n",
        "# print_stats(x_test, y_test, model)\n",
        "# # print(\"Test Loss:\", loss)\n",
        "# # print(\"Test Accuracy:\", accuracy)"
      ],
      "metadata": {
        "id": "9JzcwbYxr-qf"
      },
      "execution_count": null,
      "outputs": []
    },
    {
      "cell_type": "code",
      "source": [],
      "metadata": {
        "id": "Ag68C9GNNNoT"
      },
      "execution_count": null,
      "outputs": []
    }
  ]
}